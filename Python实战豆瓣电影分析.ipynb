{
 "cells": [
  {
   "cell_type": "markdown",
   "metadata": {},
   "source": [
    "# 综合项目实战Python数据分析：豆瓣电影分析系统\n",
    " ## ——基于爬虫、Panads、MatplotLib 等技术实现\n",
    "## 1 数据收集篇\n",
    "### 1.1 爬虫抓取豆瓣top250网页数据\n",
    "\n",
    "先来看一下准备爬取的页面：\n",
    "![](http://image.shenghaishxt.cn//20201113215832.png)\n",
    "\n",
    "我们抓取排名、电影名、导演、主演、上映日期、制片国家/地区、类型，评分、评论数量、一句话评价以及电影链接，其中导演和主演分别取一位。"
   ]
  },
  {
   "cell_type": "markdown",
   "metadata": {},
   "source": [
    "```java\n",
    "# 爬虫代码-01\n",
    "\n",
    "from bs4 import BeautifulSoup\n",
    "from urllib.request import urlopen, Request\n",
    "\n",
    "top250_url = \"https://movie.douban.com/top250?start={}&filter=\"\n",
    "headers = {'User-Agent': 'Mozilla/5.0 (Windows NT 10.0; Win64; x64) AppleWebKit/537.36 (KHTML, like Gecko) Chrome/67.0.3396.99 Safari/537.36'}\n",
    "\n",
    "with open('./top250_f1.csv', 'w', encoding='utf8') as outputfile:\n",
    "    outputfile.write(\"num,title,director,role,init_year,area,genre,rating_num,comment_num,comment,url\\n\")\n",
    "    for i in range(0, 10):\n",
    "        start = i * 25\n",
    "        url_visit = top250_url.format(start)\n",
    "        crawl_content = urlopen(Request(url_visit, headers=headers)).read()\n",
    "        http_content = crawl_content.decode('utf8')\n",
    "        soup = BeautifulSoup(http_content, 'html.parser')\n",
    "        all_item_divs = soup.find_all(class_='item')\n",
    "\n",
    "        for each_item_div in all_item_divs:\n",
    "            pic_div = each_item_div.find(class_='pic')\n",
    "            num = pic_div.find('em').get_text()   # 排名\n",
    "            href = pic_div.find('a')['href']      # 电影链接\n",
    "            title = pic_div.find('img')['alt']    # 电影名称\n",
    "            bd_div = each_item_div.find(class_='bd')\n",
    "            infos = bd_div.find('p').get_text().strip().split('\\n')\n",
    "            infos_1 = infos[0].split('\\xa0\\xa0\\xa0')\n",
    "            director = infos_1[0][4:].rstrip('...').rstrip('/').split('/')[0]   # 导演\n",
    "            role = str(infos_1[1:])[6:].split('/')[0]                           # 主演\n",
    "            infos_2 = infos[1].lstrip().split('\\xa0/\\xa0')\n",
    "            year = infos_2[0]    # 上映时间\n",
    "            area = infos_2[1]    # 国家/地区\n",
    "            genre = infos_2[2:]  # 电影类型\n",
    "            star_div = each_item_div.find(class_='star')\n",
    "            rating_num = star_div.find(class_='rating_num').get_text()      # 评分\n",
    "            comment_num = star_div.find_all('span')[3].get_text()[:-3]      # 评价数量\n",
    "            quote = each_item_div.find(class_='quote')\n",
    "            inq = ''\n",
    "            try:\n",
    "                inq = quote.find(class_='inq').get_text()  # 一句话评价\n",
    "            except:\n",
    "                inq = ''\n",
    "\n",
    "            outputfile.write('{},{},{},{},{},{},{},{},{},{},{}\\n'.format(num, title, director, role, year, area,\n",
    "                                                                         genre, rating_num, comment_num, inq, href))\n",
    "\n",
    "print('ok!!')\n",
    "\n",
    "```"
   ]
  },
  {
   "cell_type": "markdown",
   "metadata": {},
   "source": [
    "```java\n",
    "# 爬虫代码-02\n",
    "\n",
    "import urllib\n",
    "import urllib.request as urlrequest\n",
    "import json\n",
    "import time\n",
    "import random\n",
    "import pandas as pd\n",
    "\n",
    "# 豆瓣 API 文档 https://github.com/zce/douban-api-docs\n",
    "\n",
    "df = pd.read_csv(\"./top250_f1.csv\", sep = \",\", encoding = 'utf8',\n",
    "                 names=['num','title','director','role','init_year','area','genre','rating_num','comment_num','comment','url'])\n",
    "urlsplit = df.url.str.split('/').apply(pd.Series)\n",
    "num = 0\n",
    "id_list = list(urlsplit[4])[1:]\n",
    "\n",
    "# 这里写几个可用的IP地址和端口号，只抓250个页面，有两三个IP就够了\n",
    "# (建议使用此代理：http://www.xicidaili.com/或http://www.data5u.com/)\n",
    "IP_list = ['175.42.158.61:9999', '175.42.68.58:9999' ]\n",
    "IP = random.choice(IP_list)\n",
    "with open('top250_f5.csv', 'w', encoding='utf8') as outputfile:\n",
    "    outputfile.write(\"num#rank#alt_title#title#pubdate#language#writer#director#cast#movie_duration#year#movie_type#tags#image\\n\")\n",
    "    proxy = urlrequest.ProxyHandler({'https': '' + IP})\n",
    "    opener = urlrequest.build_opener(proxy)\n",
    "    opener.addheaders = [('User-Agent',\n",
    "    'Mozilla/5.0 (Macintosh; Intel Mac OS X 10_12_4)AppleWebKit/603.1.30 (KHTML, like Gecko) Version/10.1 Safari/603.1.30')]\n",
    "    urlrequest.install_opener(opener)\n",
    "    for id in id_list:\n",
    "        url_visit = 'https://api.douban.com/v2/movie/{}'.format(id)\n",
    "        crawl_content = urlrequest.urlopen(url_visit).read()\n",
    "        json_content = json.loads(crawl_content.decode('utf-8'))\n",
    "        rank = json_content['rating']['average']\n",
    "        alt_title = json_content['alt_title']\n",
    "        image = json_content['image']\n",
    "        title = json_content['title']\n",
    "        pubdate = json_content['attrs']['pubdate']\n",
    "        language = json_content['attrs']['language']\n",
    "        try:\n",
    "            writer = json_content['attrs']['writer']\n",
    "        except:\n",
    "            writer = 'None'\n",
    "        director = json_content['attrs']['director']\n",
    "        try:\n",
    "            cast = json_content['attrs']['cast']\n",
    "        except:\n",
    "            cast='None'\n",
    "        movie_duration = json_content['attrs']['movie_duration']\n",
    "        year = json_content['attrs']['year']\n",
    "        movie_type = json_content['attrs']['movie_type']\n",
    "        tags = json_content['tags']\n",
    "        num = num +1\n",
    "        data =\"{},{},{},{},{},{},{},{},{},{},{},{},{},{}\\n\".format(num,rank,alt_title,title,pubdate,language,writer,\n",
    "                                                                             director,cast,movie_duration,year,movie_type,tags,image)\n",
    "        print(data)\n",
    "        outputfile.write(data)\n",
    "        time.sleep(10)\n",
    "\n",
    "print(\"ok!!!\")\n",
    "```"
   ]
  },
  {
   "cell_type": "markdown",
   "metadata": {},
   "source": [
    "### 1.2 查看通过爬虫抓取的[top250_f1.csv]数据"
   ]
  },
  {
   "cell_type": "code",
   "execution_count": 1,
   "metadata": {},
   "outputs": [],
   "source": [
    "import numpy as ny\n",
    "import pandas as pd"
   ]
  },
  {
   "cell_type": "code",
   "execution_count": 2,
   "metadata": {},
   "outputs": [
    {
     "data": {
      "text/html": [
       "<div>\n",
       "<style scoped>\n",
       "    .dataframe tbody tr th:only-of-type {\n",
       "        vertical-align: middle;\n",
       "    }\n",
       "\n",
       "    .dataframe tbody tr th {\n",
       "        vertical-align: top;\n",
       "    }\n",
       "\n",
       "    .dataframe thead th {\n",
       "        text-align: right;\n",
       "    }\n",
       "</style>\n",
       "<table border=\"1\" class=\"dataframe\">\n",
       "  <thead>\n",
       "    <tr style=\"text-align: right;\">\n",
       "      <th></th>\n",
       "      <th>num</th>\n",
       "      <th>title</th>\n",
       "      <th>director</th>\n",
       "      <th>role</th>\n",
       "      <th>init_year</th>\n",
       "      <th>area</th>\n",
       "      <th>genre</th>\n",
       "      <th>rating_num</th>\n",
       "      <th>comment_num</th>\n",
       "      <th>comment</th>\n",
       "      <th>url</th>\n",
       "    </tr>\n",
       "  </thead>\n",
       "  <tbody>\n",
       "    <tr>\n",
       "      <th>0</th>\n",
       "      <td>1</td>\n",
       "      <td>肖申克的救赎</td>\n",
       "      <td>弗兰克·德拉邦特 Frank Darabont</td>\n",
       "      <td>蒂姆·罗宾斯 Tim Robbins</td>\n",
       "      <td>1994</td>\n",
       "      <td>美国</td>\n",
       "      <td>['犯罪 剧情']</td>\n",
       "      <td>9.6</td>\n",
       "      <td>964842</td>\n",
       "      <td>希望让人自由。</td>\n",
       "      <td>https://movie.douban.com/subject/1292052/</td>\n",
       "    </tr>\n",
       "    <tr>\n",
       "      <th>1</th>\n",
       "      <td>2</td>\n",
       "      <td>霸王别姬</td>\n",
       "      <td>陈凯歌 Kaige Chen</td>\n",
       "      <td>张国荣 Leslie Cheung</td>\n",
       "      <td>1993</td>\n",
       "      <td>中国大陆 香港</td>\n",
       "      <td>['剧情 爱情 同性']</td>\n",
       "      <td>9.5</td>\n",
       "      <td>699930</td>\n",
       "      <td>风华绝代。</td>\n",
       "      <td>https://movie.douban.com/subject/1291546/</td>\n",
       "    </tr>\n",
       "    <tr>\n",
       "      <th>2</th>\n",
       "      <td>3</td>\n",
       "      <td>这个杀手不太冷</td>\n",
       "      <td>吕克·贝松 Luc Besson</td>\n",
       "      <td>让·雷诺 Jean Reno</td>\n",
       "      <td>1994</td>\n",
       "      <td>法国</td>\n",
       "      <td>['剧情 动作 犯罪']</td>\n",
       "      <td>9.4</td>\n",
       "      <td>912435</td>\n",
       "      <td>怪蜀黍和小萝莉不得不说的故事。</td>\n",
       "      <td>https://movie.douban.com/subject/1295644/</td>\n",
       "    </tr>\n",
       "    <tr>\n",
       "      <th>3</th>\n",
       "      <td>4</td>\n",
       "      <td>阿甘正传</td>\n",
       "      <td>Robert Zemeckis</td>\n",
       "      <td>Tom Hanks</td>\n",
       "      <td>1994</td>\n",
       "      <td>美国</td>\n",
       "      <td>['剧情 爱情']</td>\n",
       "      <td>9.4</td>\n",
       "      <td>775889</td>\n",
       "      <td>一部美国近现代史。</td>\n",
       "      <td>https://movie.douban.com/subject/1292720/</td>\n",
       "    </tr>\n",
       "    <tr>\n",
       "      <th>4</th>\n",
       "      <td>5</td>\n",
       "      <td>美丽人生</td>\n",
       "      <td>罗伯托·贝尼尼 Roberto Benigni</td>\n",
       "      <td>罗伯托·贝尼尼 Roberto Beni...']</td>\n",
       "      <td>1997</td>\n",
       "      <td>意大利</td>\n",
       "      <td>['剧情 喜剧 爱情 战争']</td>\n",
       "      <td>9.5</td>\n",
       "      <td>453651</td>\n",
       "      <td>最美的谎言。</td>\n",
       "      <td>https://movie.douban.com/subject/1292063/</td>\n",
       "    </tr>\n",
       "  </tbody>\n",
       "</table>\n",
       "</div>"
      ],
      "text/plain": [
       "   num    title                 director                       role init_year  \\\n",
       "0    1   肖申克的救赎  弗兰克·德拉邦特 Frank Darabont        蒂姆·罗宾斯 Tim Robbins       1994   \n",
       "1    2     霸王别姬           陈凯歌 Kaige Chen         张国荣 Leslie Cheung       1993   \n",
       "2    3  这个杀手不太冷         吕克·贝松 Luc Besson            让·雷诺 Jean Reno       1994   \n",
       "3    4     阿甘正传          Robert Zemeckis                 Tom Hanks       1994   \n",
       "4    5     美丽人生  罗伯托·贝尼尼 Roberto Benigni  罗伯托·贝尼尼 Roberto Beni...']      1997   \n",
       "\n",
       "      area            genre  rating_num  comment_num          comment  \\\n",
       "0       美国        ['犯罪 剧情']         9.6       964842          希望让人自由。   \n",
       "1  中国大陆 香港     ['剧情 爱情 同性']         9.5       699930            风华绝代。   \n",
       "2       法国     ['剧情 动作 犯罪']         9.4       912435  怪蜀黍和小萝莉不得不说的故事。   \n",
       "3       美国        ['剧情 爱情']         9.4       775889        一部美国近现代史。   \n",
       "4      意大利  ['剧情 喜剧 爱情 战争']         9.5       453651           最美的谎言。   \n",
       "\n",
       "                                         url  \n",
       "0  https://movie.douban.com/subject/1292052/  \n",
       "1  https://movie.douban.com/subject/1291546/  \n",
       "2  https://movie.douban.com/subject/1295644/  \n",
       "3  https://movie.douban.com/subject/1292720/  \n",
       "4  https://movie.douban.com/subject/1292063/  "
      ]
     },
     "execution_count": 2,
     "metadata": {},
     "output_type": "execute_result"
    }
   ],
   "source": [
    "# 查看 top250_f1.csv 前五条数据\n",
    "df_1 = pd.read_csv(\"top250_f1.csv\",sep = \"#\", encoding = 'utf8',\n",
    "                 names=['num','title','director','role','init_year','area','genre','rating_num','comment_num','comment','url'],header=0)\n",
    "# 查看前5条\n",
    "df_1.head()\n",
    "\n",
    "# 查看后5条\n",
    "# df_1.tail()"
   ]
  },
  {
   "cell_type": "markdown",
   "metadata": {},
   "source": [
    "### 1.3 查看通过爬虫抓取的[top250_f2.csv]数据"
   ]
  },
  {
   "cell_type": "code",
   "execution_count": 3,
   "metadata": {},
   "outputs": [
    {
     "data": {
      "text/html": [
       "<div>\n",
       "<style scoped>\n",
       "    .dataframe tbody tr th:only-of-type {\n",
       "        vertical-align: middle;\n",
       "    }\n",
       "\n",
       "    .dataframe tbody tr th {\n",
       "        vertical-align: top;\n",
       "    }\n",
       "\n",
       "    .dataframe thead th {\n",
       "        text-align: right;\n",
       "    }\n",
       "</style>\n",
       "<table border=\"1\" class=\"dataframe\">\n",
       "  <thead>\n",
       "    <tr style=\"text-align: right;\">\n",
       "      <th></th>\n",
       "      <th>num</th>\n",
       "      <th>rank</th>\n",
       "      <th>alt_title</th>\n",
       "      <th>title</th>\n",
       "      <th>pubdate</th>\n",
       "      <th>language</th>\n",
       "      <th>writer</th>\n",
       "      <th>director</th>\n",
       "      <th>cast</th>\n",
       "      <th>movie_duration</th>\n",
       "      <th>year</th>\n",
       "      <th>movie_type</th>\n",
       "      <th>tags</th>\n",
       "      <th>image</th>\n",
       "    </tr>\n",
       "  </thead>\n",
       "  <tbody>\n",
       "    <tr>\n",
       "      <th>0</th>\n",
       "      <td>1</td>\n",
       "      <td>9.6</td>\n",
       "      <td>肖申克的救赎 / 月黑高飞(港)</td>\n",
       "      <td>The Shawshank Redemption</td>\n",
       "      <td>['1994-09-10(多伦多电影节)', '1994-10-14(美国)']</td>\n",
       "      <td>['英语']</td>\n",
       "      <td>['弗兰克·德拉邦特 Frank Darabont', '斯蒂芬·金 Stephen King']</td>\n",
       "      <td>['弗兰克·德拉邦特 Frank Darabont']</td>\n",
       "      <td>['蒂姆·罗宾斯 Tim Robbins', '摩根·弗里曼 Morgan Freeman'...</td>\n",
       "      <td>['142 分钟']</td>\n",
       "      <td>['1994']</td>\n",
       "      <td>['犯罪', '剧情']</td>\n",
       "      <td>[{'count': 197742, 'name': '经典'}, {'count': 16...</td>\n",
       "      <td>https://img3.doubanio.com/view/photo/s_ratio_p...</td>\n",
       "    </tr>\n",
       "    <tr>\n",
       "      <th>1</th>\n",
       "      <td>2</td>\n",
       "      <td>9.5</td>\n",
       "      <td>再见，我的妾</td>\n",
       "      <td>霸王别姬</td>\n",
       "      <td>['1993-01-01(香港)']</td>\n",
       "      <td>['汉语普通话']</td>\n",
       "      <td>['芦苇 Wei Lu', '李碧华 Lillian Lee']</td>\n",
       "      <td>['陈凯歌 Kaige Chen']</td>\n",
       "      <td>['张国荣 Leslie Cheung', '张丰毅 Fengyi Zhang', '巩俐 ...</td>\n",
       "      <td>['171 分钟']</td>\n",
       "      <td>['1993']</td>\n",
       "      <td>['剧情', '爱情', '同性']</td>\n",
       "      <td>[{'count': 124150, 'name': '经典'}, {'count': 63...</td>\n",
       "      <td>https://img3.doubanio.com/view/photo/s_ratio_p...</td>\n",
       "    </tr>\n",
       "    <tr>\n",
       "      <th>2</th>\n",
       "      <td>3</td>\n",
       "      <td>9.4</td>\n",
       "      <td>这个杀手不太冷 / 杀手莱昂</td>\n",
       "      <td>Léon</td>\n",
       "      <td>['1994-09-14(法国)']</td>\n",
       "      <td>['英语', '意大利语', '法语']</td>\n",
       "      <td>['吕克·贝松 Luc Besson']</td>\n",
       "      <td>['吕克·贝松 Luc Besson']</td>\n",
       "      <td>['让·雷诺 Jean Reno', '娜塔莉·波特曼 Natalie Portman', ...</td>\n",
       "      <td>['110分钟(剧场版)', '133分钟(国际版)']</td>\n",
       "      <td>['1994']</td>\n",
       "      <td>['剧情', '动作', '犯罪']</td>\n",
       "      <td>[{'count': 150097, 'name': '经典'}, {'count': 85...</td>\n",
       "      <td>https://img3.doubanio.com/view/photo/s_ratio_p...</td>\n",
       "    </tr>\n",
       "    <tr>\n",
       "      <th>3</th>\n",
       "      <td>4</td>\n",
       "      <td>9.4</td>\n",
       "      <td>阿甘正传 / 福雷斯特·冈普</td>\n",
       "      <td>Forrest Gump</td>\n",
       "      <td>['1994-06-23(洛杉矶首映)', '1994-07-06(美国)']</td>\n",
       "      <td>['英语']</td>\n",
       "      <td>['Eric Roth', 'Winston Groom']</td>\n",
       "      <td>['Robert Zemeckis']</td>\n",
       "      <td>['Tom Hanks', 'Robin Wright Penn', 'Gary Sinis...</td>\n",
       "      <td>['142 分钟']</td>\n",
       "      <td>['1994']</td>\n",
       "      <td>['剧情', '爱情']</td>\n",
       "      <td>[{'count': 179046, 'name': '励志'}, {'count': 13...</td>\n",
       "      <td>https://img1.doubanio.com/view/photo/s_ratio_p...</td>\n",
       "    </tr>\n",
       "    <tr>\n",
       "      <th>4</th>\n",
       "      <td>5</td>\n",
       "      <td>9.5</td>\n",
       "      <td>美丽人生 / 一个快乐的传说(港)</td>\n",
       "      <td>La vita è bella</td>\n",
       "      <td>['1997-12-20(意大利)']</td>\n",
       "      <td>['意大利语', '德语', '英语']</td>\n",
       "      <td>['文森佐·克拉米 Vincenzo Cerami', '罗伯托·贝尼尼 Roberto B...</td>\n",
       "      <td>['罗伯托·贝尼尼 Roberto Benigni']</td>\n",
       "      <td>['罗伯托·贝尼尼 Roberto Benigni', '尼可莱塔·布拉斯基 Nicolet...</td>\n",
       "      <td>['116分钟']</td>\n",
       "      <td>['1997']</td>\n",
       "      <td>['剧情', '喜剧', '爱情', '战争']</td>\n",
       "      <td>[{'count': 70710, 'name': '意大利'}, {'count': 67...</td>\n",
       "      <td>https://img3.doubanio.com/view/photo/s_ratio_p...</td>\n",
       "    </tr>\n",
       "  </tbody>\n",
       "</table>\n",
       "</div>"
      ],
      "text/plain": [
       "   num  rank          alt_title                     title  \\\n",
       "0    1   9.6   肖申克的救赎 / 月黑高飞(港)  The Shawshank Redemption   \n",
       "1    2   9.5             再见，我的妾                      霸王别姬   \n",
       "2    3   9.4     这个杀手不太冷 / 杀手莱昂                      Léon   \n",
       "3    4   9.4     阿甘正传 / 福雷斯特·冈普              Forrest Gump   \n",
       "4    5   9.5  美丽人生 / 一个快乐的传说(港)           La vita è bella   \n",
       "\n",
       "                                    pubdate              language  \\\n",
       "0  ['1994-09-10(多伦多电影节)', '1994-10-14(美国)']                ['英语']   \n",
       "1                        ['1993-01-01(香港)']             ['汉语普通话']   \n",
       "2                        ['1994-09-14(法国)']  ['英语', '意大利语', '法语']   \n",
       "3   ['1994-06-23(洛杉矶首映)', '1994-07-06(美国)']                ['英语']   \n",
       "4                       ['1997-12-20(意大利)']  ['意大利语', '德语', '英语']   \n",
       "\n",
       "                                              writer  \\\n",
       "0  ['弗兰克·德拉邦特 Frank Darabont', '斯蒂芬·金 Stephen King']   \n",
       "1                   ['芦苇 Wei Lu', '李碧华 Lillian Lee']   \n",
       "2                               ['吕克·贝松 Luc Besson']   \n",
       "3                     ['Eric Roth', 'Winston Groom']   \n",
       "4  ['文森佐·克拉米 Vincenzo Cerami', '罗伯托·贝尼尼 Roberto B...   \n",
       "\n",
       "                      director  \\\n",
       "0  ['弗兰克·德拉邦特 Frank Darabont']   \n",
       "1           ['陈凯歌 Kaige Chen']   \n",
       "2         ['吕克·贝松 Luc Besson']   \n",
       "3          ['Robert Zemeckis']   \n",
       "4  ['罗伯托·贝尼尼 Roberto Benigni']   \n",
       "\n",
       "                                                cast  \\\n",
       "0  ['蒂姆·罗宾斯 Tim Robbins', '摩根·弗里曼 Morgan Freeman'...   \n",
       "1  ['张国荣 Leslie Cheung', '张丰毅 Fengyi Zhang', '巩俐 ...   \n",
       "2  ['让·雷诺 Jean Reno', '娜塔莉·波特曼 Natalie Portman', ...   \n",
       "3  ['Tom Hanks', 'Robin Wright Penn', 'Gary Sinis...   \n",
       "4  ['罗伯托·贝尼尼 Roberto Benigni', '尼可莱塔·布拉斯基 Nicolet...   \n",
       "\n",
       "                 movie_duration      year                movie_type  \\\n",
       "0                    ['142 分钟']  ['1994']              ['犯罪', '剧情']   \n",
       "1                    ['171 分钟']  ['1993']        ['剧情', '爱情', '同性']   \n",
       "2  ['110分钟(剧场版)', '133分钟(国际版)']  ['1994']        ['剧情', '动作', '犯罪']   \n",
       "3                    ['142 分钟']  ['1994']              ['剧情', '爱情']   \n",
       "4                     ['116分钟']  ['1997']  ['剧情', '喜剧', '爱情', '战争']   \n",
       "\n",
       "                                                tags  \\\n",
       "0  [{'count': 197742, 'name': '经典'}, {'count': 16...   \n",
       "1  [{'count': 124150, 'name': '经典'}, {'count': 63...   \n",
       "2  [{'count': 150097, 'name': '经典'}, {'count': 85...   \n",
       "3  [{'count': 179046, 'name': '励志'}, {'count': 13...   \n",
       "4  [{'count': 70710, 'name': '意大利'}, {'count': 67...   \n",
       "\n",
       "                                               image  \n",
       "0  https://img3.doubanio.com/view/photo/s_ratio_p...  \n",
       "1  https://img3.doubanio.com/view/photo/s_ratio_p...  \n",
       "2  https://img3.doubanio.com/view/photo/s_ratio_p...  \n",
       "3  https://img1.doubanio.com/view/photo/s_ratio_p...  \n",
       "4  https://img3.doubanio.com/view/photo/s_ratio_p...  "
      ]
     },
     "execution_count": 3,
     "metadata": {},
     "output_type": "execute_result"
    }
   ],
   "source": [
    "# 查看 top250_f2.csv 前五条数据\n",
    "df_2 = pd.read_csv(\"top250_f2.csv\",sep = \"#\", encoding = 'utf8',\n",
    "                 names=['num','rank','alt_title','title','pubdate','language','writer','director',\n",
    "                        'cast','movie_duration','year','movie_type','tags','image']\n",
    "                  ,header=0)\n",
    "# 查看前5条\n",
    "df_2.head()\n",
    "#df_2.tail() # 查看后5条"
   ]
  },
  {
   "cell_type": "markdown",
   "metadata": {},
   "source": [
    "## 2 数据清洗\n",
    "### 2.1 合并数据，以便后续进一步数据分析\n",
    "一般我们得到的数据是不可以直接使用的，里面可能存在重复值、缺失值、空值、 无效值、异常值、错误值，以及逻辑、格式不正确等的数据不一致问题。网上抓取来的数据更容易有这些问题，我们需要处理这些脏数据，转化成可供分析的数据。\n",
    "\n",
    "数据分布在两个文件中，我们选取 top250_f1.csv 文件中的 num(排名）、 title(电影名)、 init_year(上映时间)、 area（国家/地区）、 genre(类型）、 rating_num(评分)、 comment_num(评价人数)，和 top250_f2.csv 文件中的 language(语言)、 director（导演）、 cast(主演)、 movie_duration(时长)、 tags(标签)这些列进行分析，因此只对这些列中的脏数据做清洗工作。\n",
    "\n",
    "先将这些列放到同一个 DataFrame 中，也就是合并数据。这一步是通过 pd.merge()函数选出的。对df_1_cut 和 df_2_cut 两张表，取并集，链接键为 num。"
   ]
  },
  {
   "cell_type": "code",
   "execution_count": 4,
   "metadata": {
    "scrolled": false
   },
   "outputs": [
    {
     "data": {
      "text/html": [
       "<div>\n",
       "<style scoped>\n",
       "    .dataframe tbody tr th:only-of-type {\n",
       "        vertical-align: middle;\n",
       "    }\n",
       "\n",
       "    .dataframe tbody tr th {\n",
       "        vertical-align: top;\n",
       "    }\n",
       "\n",
       "    .dataframe thead th {\n",
       "        text-align: right;\n",
       "    }\n",
       "</style>\n",
       "<table border=\"1\" class=\"dataframe\">\n",
       "  <thead>\n",
       "    <tr style=\"text-align: right;\">\n",
       "      <th></th>\n",
       "      <th>num</th>\n",
       "      <th>title</th>\n",
       "      <th>init_year</th>\n",
       "      <th>area</th>\n",
       "      <th>genre</th>\n",
       "      <th>rating_num</th>\n",
       "      <th>comment_num</th>\n",
       "      <th>language</th>\n",
       "      <th>director</th>\n",
       "      <th>cast</th>\n",
       "      <th>movie_duration</th>\n",
       "      <th>tags</th>\n",
       "    </tr>\n",
       "  </thead>\n",
       "  <tbody>\n",
       "    <tr>\n",
       "      <th>0</th>\n",
       "      <td>1</td>\n",
       "      <td>肖申克的救赎</td>\n",
       "      <td>1994</td>\n",
       "      <td>美国</td>\n",
       "      <td>['犯罪 剧情']</td>\n",
       "      <td>9.6</td>\n",
       "      <td>964842</td>\n",
       "      <td>['英语']</td>\n",
       "      <td>['弗兰克·德拉邦特 Frank Darabont']</td>\n",
       "      <td>['蒂姆·罗宾斯 Tim Robbins', '摩根·弗里曼 Morgan Freeman'...</td>\n",
       "      <td>['142 分钟']</td>\n",
       "      <td>[{'count': 197742, 'name': '经典'}, {'count': 16...</td>\n",
       "    </tr>\n",
       "    <tr>\n",
       "      <th>1</th>\n",
       "      <td>2</td>\n",
       "      <td>霸王别姬</td>\n",
       "      <td>1993</td>\n",
       "      <td>中国大陆 香港</td>\n",
       "      <td>['剧情 爱情 同性']</td>\n",
       "      <td>9.5</td>\n",
       "      <td>699930</td>\n",
       "      <td>['汉语普通话']</td>\n",
       "      <td>['陈凯歌 Kaige Chen']</td>\n",
       "      <td>['张国荣 Leslie Cheung', '张丰毅 Fengyi Zhang', '巩俐 ...</td>\n",
       "      <td>['171 分钟']</td>\n",
       "      <td>[{'count': 124150, 'name': '经典'}, {'count': 63...</td>\n",
       "    </tr>\n",
       "    <tr>\n",
       "      <th>2</th>\n",
       "      <td>3</td>\n",
       "      <td>这个杀手不太冷</td>\n",
       "      <td>1994</td>\n",
       "      <td>法国</td>\n",
       "      <td>['剧情 动作 犯罪']</td>\n",
       "      <td>9.4</td>\n",
       "      <td>912435</td>\n",
       "      <td>['英语', '意大利语', '法语']</td>\n",
       "      <td>['吕克·贝松 Luc Besson']</td>\n",
       "      <td>['让·雷诺 Jean Reno', '娜塔莉·波特曼 Natalie Portman', ...</td>\n",
       "      <td>['110分钟(剧场版)', '133分钟(国际版)']</td>\n",
       "      <td>[{'count': 150097, 'name': '经典'}, {'count': 85...</td>\n",
       "    </tr>\n",
       "    <tr>\n",
       "      <th>3</th>\n",
       "      <td>4</td>\n",
       "      <td>阿甘正传</td>\n",
       "      <td>1994</td>\n",
       "      <td>美国</td>\n",
       "      <td>['剧情 爱情']</td>\n",
       "      <td>9.4</td>\n",
       "      <td>775889</td>\n",
       "      <td>['英语']</td>\n",
       "      <td>['Robert Zemeckis']</td>\n",
       "      <td>['Tom Hanks', 'Robin Wright Penn', 'Gary Sinis...</td>\n",
       "      <td>['142 分钟']</td>\n",
       "      <td>[{'count': 179046, 'name': '励志'}, {'count': 13...</td>\n",
       "    </tr>\n",
       "    <tr>\n",
       "      <th>4</th>\n",
       "      <td>5</td>\n",
       "      <td>美丽人生</td>\n",
       "      <td>1997</td>\n",
       "      <td>意大利</td>\n",
       "      <td>['剧情 喜剧 爱情 战争']</td>\n",
       "      <td>9.5</td>\n",
       "      <td>453651</td>\n",
       "      <td>['意大利语', '德语', '英语']</td>\n",
       "      <td>['罗伯托·贝尼尼 Roberto Benigni']</td>\n",
       "      <td>['罗伯托·贝尼尼 Roberto Benigni', '尼可莱塔·布拉斯基 Nicolet...</td>\n",
       "      <td>['116分钟']</td>\n",
       "      <td>[{'count': 70710, 'name': '意大利'}, {'count': 67...</td>\n",
       "    </tr>\n",
       "  </tbody>\n",
       "</table>\n",
       "</div>"
      ],
      "text/plain": [
       "   num    title init_year     area            genre  rating_num  comment_num  \\\n",
       "0    1   肖申克的救赎      1994       美国        ['犯罪 剧情']         9.6       964842   \n",
       "1    2     霸王别姬      1993  中国大陆 香港     ['剧情 爱情 同性']         9.5       699930   \n",
       "2    3  这个杀手不太冷      1994       法国     ['剧情 动作 犯罪']         9.4       912435   \n",
       "3    4     阿甘正传      1994       美国        ['剧情 爱情']         9.4       775889   \n",
       "4    5     美丽人生      1997      意大利  ['剧情 喜剧 爱情 战争']         9.5       453651   \n",
       "\n",
       "               language                     director  \\\n",
       "0                ['英语']  ['弗兰克·德拉邦特 Frank Darabont']   \n",
       "1             ['汉语普通话']           ['陈凯歌 Kaige Chen']   \n",
       "2  ['英语', '意大利语', '法语']         ['吕克·贝松 Luc Besson']   \n",
       "3                ['英语']          ['Robert Zemeckis']   \n",
       "4  ['意大利语', '德语', '英语']  ['罗伯托·贝尼尼 Roberto Benigni']   \n",
       "\n",
       "                                                cast  \\\n",
       "0  ['蒂姆·罗宾斯 Tim Robbins', '摩根·弗里曼 Morgan Freeman'...   \n",
       "1  ['张国荣 Leslie Cheung', '张丰毅 Fengyi Zhang', '巩俐 ...   \n",
       "2  ['让·雷诺 Jean Reno', '娜塔莉·波特曼 Natalie Portman', ...   \n",
       "3  ['Tom Hanks', 'Robin Wright Penn', 'Gary Sinis...   \n",
       "4  ['罗伯托·贝尼尼 Roberto Benigni', '尼可莱塔·布拉斯基 Nicolet...   \n",
       "\n",
       "                 movie_duration  \\\n",
       "0                    ['142 分钟']   \n",
       "1                    ['171 分钟']   \n",
       "2  ['110分钟(剧场版)', '133分钟(国际版)']   \n",
       "3                    ['142 分钟']   \n",
       "4                     ['116分钟']   \n",
       "\n",
       "                                                tags  \n",
       "0  [{'count': 197742, 'name': '经典'}, {'count': 16...  \n",
       "1  [{'count': 124150, 'name': '经典'}, {'count': 63...  \n",
       "2  [{'count': 150097, 'name': '经典'}, {'count': 85...  \n",
       "3  [{'count': 179046, 'name': '励志'}, {'count': 13...  \n",
       "4  [{'count': 70710, 'name': '意大利'}, {'count': 67...  "
      ]
     },
     "execution_count": 4,
     "metadata": {},
     "output_type": "execute_result"
    }
   ],
   "source": [
    "df_1_cut = df_1[['num','title','init_year','area','genre','rating_num','comment_num']]\n",
    "df_2_cut = df_2[['num','language','director','cast','movie_duration','tags']]\n",
    "df = pd.merge(df_1_cut, df_2_cut, how = 'outer', on = 'num')\n",
    "df.head() # 查看前5条信息\n",
    "#df.tail()#查看后5条信息"
   ]
  },
  {
   "cell_type": "markdown",
   "metadata": {},
   "source": [
    "### 2.2 查看数据，了解更多数据信息\n",
    "\n",
    "首先查看一下数据集的基本信息。下面的结果显示，数据集共250行，12列，无缺失值，num 和 comment_num 为整型，rating_num 为浮点型，其余为 object 类型。"
   ]
  },
  {
   "cell_type": "code",
   "execution_count": 5,
   "metadata": {},
   "outputs": [
    {
     "name": "stdout",
     "output_type": "stream",
     "text": [
      "<class 'pandas.core.frame.DataFrame'>\n",
      "Int64Index: 250 entries, 0 to 249\n",
      "Data columns (total 12 columns):\n",
      " #   Column          Non-Null Count  Dtype  \n",
      "---  ------          --------------  -----  \n",
      " 0   num             250 non-null    int64  \n",
      " 1   title           250 non-null    object \n",
      " 2   init_year       250 non-null    object \n",
      " 3   area            250 non-null    object \n",
      " 4   genre           250 non-null    object \n",
      " 5   rating_num      250 non-null    float64\n",
      " 6   comment_num     250 non-null    int64  \n",
      " 7   language        250 non-null    object \n",
      " 8   director        250 non-null    object \n",
      " 9   cast            250 non-null    object \n",
      " 10  movie_duration  250 non-null    object \n",
      " 11  tags            250 non-null    object \n",
      "dtypes: float64(1), int64(2), object(9)\n",
      "memory usage: 25.4+ KB\n"
     ]
    }
   ],
   "source": [
    "df.info()"
   ]
  },
  {
   "cell_type": "markdown",
   "metadata": {},
   "source": [
    "### 2.3 重复值检查\n",
    "\n",
    "检查重复值可以用 duplicated() 函数，若返回值为“True”，则含有重复项，返回值为“False”,则不含重复项。pd.Series.value_counts() 函数可以用来对series计数。"
   ]
  },
  {
   "cell_type": "code",
   "execution_count": 6,
   "metadata": {},
   "outputs": [
    {
     "data": {
      "text/plain": [
       "0      False\n",
       "1      False\n",
       "2      False\n",
       "3      False\n",
       "4      False\n",
       "       ...  \n",
       "245    False\n",
       "246    False\n",
       "247    False\n",
       "248    False\n",
       "249    False\n",
       "Length: 250, dtype: bool"
      ]
     },
     "execution_count": 6,
     "metadata": {},
     "output_type": "execute_result"
    }
   ],
   "source": [
    "df.duplicated()"
   ]
  },
  {
   "cell_type": "code",
   "execution_count": 7,
   "metadata": {},
   "outputs": [
    {
     "data": {
      "text/plain": [
       "False    250\n",
       "dtype: int64"
      ]
     },
     "execution_count": 7,
     "metadata": {},
     "output_type": "execute_result"
    }
   ],
   "source": [
    "df.duplicated().value_counts()"
   ]
  },
  {
   "cell_type": "markdown",
   "metadata": {},
   "source": [
    "这里得到250个False，说明不含有重复项。\n",
    "\n",
    "继续检查是否有重名电影："
   ]
  },
  {
   "cell_type": "code",
   "execution_count": 8,
   "metadata": {},
   "outputs": [
    {
     "data": {
      "text/plain": [
       "250"
      ]
     },
     "execution_count": 8,
     "metadata": {},
     "output_type": "execute_result"
    }
   ],
   "source": [
    "len(df.title.unique())"
   ]
  },
  {
   "cell_type": "markdown",
   "metadata": {},
   "source": [
    "250个唯一值，也说明没有重复电影。\n",
    "\n",
    "检查是否有并列排名："
   ]
  },
  {
   "cell_type": "code",
   "execution_count": 9,
   "metadata": {},
   "outputs": [
    {
     "data": {
      "text/plain": [
       "250"
      ]
     },
     "execution_count": 9,
     "metadata": {},
     "output_type": "execute_result"
    }
   ],
   "source": [
    "len(df.num.unique())"
   ]
  },
  {
   "cell_type": "markdown",
   "metadata": {},
   "source": [
    "同样是250个唯一值，没有并列排名。"
   ]
  },
  {
   "cell_type": "markdown",
   "metadata": {},
   "source": [
    "### 2.4 清洗数据格式、数据分列\n",
    "\n",
    "粗略看一下，可以发现 genre，language，director，cast，movie_duration，tags列方括号、花括号和英文省略号等无效信息，需要去掉。\n",
    "\n",
    "\n",
    "对于两侧的 [' '] 或 {[' ']} 形式，可以用str来分割字符串。"
   ]
  },
  {
   "cell_type": "code",
   "execution_count": 10,
   "metadata": {
    "scrolled": true
   },
   "outputs": [
    {
     "data": {
      "text/html": [
       "<div>\n",
       "<style scoped>\n",
       "    .dataframe tbody tr th:only-of-type {\n",
       "        vertical-align: middle;\n",
       "    }\n",
       "\n",
       "    .dataframe tbody tr th {\n",
       "        vertical-align: top;\n",
       "    }\n",
       "\n",
       "    .dataframe thead th {\n",
       "        text-align: right;\n",
       "    }\n",
       "</style>\n",
       "<table border=\"1\" class=\"dataframe\">\n",
       "  <thead>\n",
       "    <tr style=\"text-align: right;\">\n",
       "      <th></th>\n",
       "      <th>num</th>\n",
       "      <th>title</th>\n",
       "      <th>init_year</th>\n",
       "      <th>area</th>\n",
       "      <th>genre</th>\n",
       "      <th>rating_num</th>\n",
       "      <th>comment_num</th>\n",
       "      <th>language</th>\n",
       "      <th>director</th>\n",
       "      <th>cast</th>\n",
       "      <th>movie_duration</th>\n",
       "      <th>tags</th>\n",
       "    </tr>\n",
       "  </thead>\n",
       "  <tbody>\n",
       "    <tr>\n",
       "      <th>0</th>\n",
       "      <td>1</td>\n",
       "      <td>肖申克的救赎</td>\n",
       "      <td>1994</td>\n",
       "      <td>美国</td>\n",
       "      <td>['犯罪 剧情']</td>\n",
       "      <td>9.6</td>\n",
       "      <td>964842</td>\n",
       "      <td>['英语']</td>\n",
       "      <td>['弗兰克·德拉邦特 Frank Darabont']</td>\n",
       "      <td>['蒂姆·罗宾斯 Tim Robbins', '摩根·弗里曼 Morgan Freeman'...</td>\n",
       "      <td>['142 分钟']</td>\n",
       "      <td>[{'count': 197742, 'name': '经典'}, {'count': 16...</td>\n",
       "    </tr>\n",
       "    <tr>\n",
       "      <th>1</th>\n",
       "      <td>2</td>\n",
       "      <td>霸王别姬</td>\n",
       "      <td>1993</td>\n",
       "      <td>中国大陆 香港</td>\n",
       "      <td>['剧情 爱情 同性']</td>\n",
       "      <td>9.5</td>\n",
       "      <td>699930</td>\n",
       "      <td>['汉语普通话']</td>\n",
       "      <td>['陈凯歌 Kaige Chen']</td>\n",
       "      <td>['张国荣 Leslie Cheung', '张丰毅 Fengyi Zhang', '巩俐 ...</td>\n",
       "      <td>['171 分钟']</td>\n",
       "      <td>[{'count': 124150, 'name': '经典'}, {'count': 63...</td>\n",
       "    </tr>\n",
       "    <tr>\n",
       "      <th>2</th>\n",
       "      <td>3</td>\n",
       "      <td>这个杀手不太冷</td>\n",
       "      <td>1994</td>\n",
       "      <td>法国</td>\n",
       "      <td>['剧情 动作 犯罪']</td>\n",
       "      <td>9.4</td>\n",
       "      <td>912435</td>\n",
       "      <td>['英语', '意大利语', '法语']</td>\n",
       "      <td>['吕克·贝松 Luc Besson']</td>\n",
       "      <td>['让·雷诺 Jean Reno', '娜塔莉·波特曼 Natalie Portman', ...</td>\n",
       "      <td>['110分钟(剧场版)', '133分钟(国际版)']</td>\n",
       "      <td>[{'count': 150097, 'name': '经典'}, {'count': 85...</td>\n",
       "    </tr>\n",
       "  </tbody>\n",
       "</table>\n",
       "</div>"
      ],
      "text/plain": [
       "   num    title init_year     area         genre  rating_num  comment_num  \\\n",
       "0    1   肖申克的救赎      1994       美国     ['犯罪 剧情']         9.6       964842   \n",
       "1    2     霸王别姬      1993  中国大陆 香港  ['剧情 爱情 同性']         9.5       699930   \n",
       "2    3  这个杀手不太冷      1994       法国  ['剧情 动作 犯罪']         9.4       912435   \n",
       "\n",
       "               language                     director  \\\n",
       "0                ['英语']  ['弗兰克·德拉邦特 Frank Darabont']   \n",
       "1             ['汉语普通话']           ['陈凯歌 Kaige Chen']   \n",
       "2  ['英语', '意大利语', '法语']         ['吕克·贝松 Luc Besson']   \n",
       "\n",
       "                                                cast  \\\n",
       "0  ['蒂姆·罗宾斯 Tim Robbins', '摩根·弗里曼 Morgan Freeman'...   \n",
       "1  ['张国荣 Leslie Cheung', '张丰毅 Fengyi Zhang', '巩俐 ...   \n",
       "2  ['让·雷诺 Jean Reno', '娜塔莉·波特曼 Natalie Portman', ...   \n",
       "\n",
       "                 movie_duration  \\\n",
       "0                    ['142 分钟']   \n",
       "1                    ['171 分钟']   \n",
       "2  ['110分钟(剧场版)', '133分钟(国际版)']   \n",
       "\n",
       "                                                tags  \n",
       "0  [{'count': 197742, 'name': '经典'}, {'count': 16...  \n",
       "1  [{'count': 124150, 'name': '经典'}, {'count': 63...  \n",
       "2  [{'count': 150097, 'name': '经典'}, {'count': 85...  "
      ]
     },
     "execution_count": 10,
     "metadata": {},
     "output_type": "execute_result"
    }
   ],
   "source": [
    "df.head(3)"
   ]
  },
  {
   "cell_type": "code",
   "execution_count": 11,
   "metadata": {},
   "outputs": [
    {
     "data": {
      "text/html": [
       "<div>\n",
       "<style scoped>\n",
       "    .dataframe tbody tr th:only-of-type {\n",
       "        vertical-align: middle;\n",
       "    }\n",
       "\n",
       "    .dataframe tbody tr th {\n",
       "        vertical-align: top;\n",
       "    }\n",
       "\n",
       "    .dataframe thead th {\n",
       "        text-align: right;\n",
       "    }\n",
       "</style>\n",
       "<table border=\"1\" class=\"dataframe\">\n",
       "  <thead>\n",
       "    <tr style=\"text-align: right;\">\n",
       "      <th></th>\n",
       "      <th>num</th>\n",
       "      <th>title</th>\n",
       "      <th>init_year</th>\n",
       "      <th>area</th>\n",
       "      <th>genre</th>\n",
       "      <th>rating_num</th>\n",
       "      <th>comment_num</th>\n",
       "      <th>language</th>\n",
       "      <th>director</th>\n",
       "      <th>cast</th>\n",
       "      <th>movie_duration</th>\n",
       "      <th>tags</th>\n",
       "    </tr>\n",
       "  </thead>\n",
       "  <tbody>\n",
       "    <tr>\n",
       "      <th>0</th>\n",
       "      <td>1</td>\n",
       "      <td>肖申克的救赎</td>\n",
       "      <td>1994</td>\n",
       "      <td>美国</td>\n",
       "      <td>犯罪 剧情</td>\n",
       "      <td>9.6</td>\n",
       "      <td>964842</td>\n",
       "      <td>英语</td>\n",
       "      <td>弗兰克·德拉邦特 Frank Darabont</td>\n",
       "      <td>蒂姆·罗宾斯 Tim Robbins', '摩根·弗里曼 Morgan Freeman', ...</td>\n",
       "      <td>142 分钟</td>\n",
       "      <td>[{'count': 197742, 'name': '经典'}, {'count': 16...</td>\n",
       "    </tr>\n",
       "    <tr>\n",
       "      <th>1</th>\n",
       "      <td>2</td>\n",
       "      <td>霸王别姬</td>\n",
       "      <td>1993</td>\n",
       "      <td>中国大陆 香港</td>\n",
       "      <td>剧情 爱情 同性</td>\n",
       "      <td>9.5</td>\n",
       "      <td>699930</td>\n",
       "      <td>汉语普通话</td>\n",
       "      <td>陈凯歌 Kaige Chen</td>\n",
       "      <td>张国荣 Leslie Cheung', '张丰毅 Fengyi Zhang', '巩俐 Li...</td>\n",
       "      <td>171 分钟</td>\n",
       "      <td>[{'count': 124150, 'name': '经典'}, {'count': 63...</td>\n",
       "    </tr>\n",
       "    <tr>\n",
       "      <th>2</th>\n",
       "      <td>3</td>\n",
       "      <td>这个杀手不太冷</td>\n",
       "      <td>1994</td>\n",
       "      <td>法国</td>\n",
       "      <td>剧情 动作 犯罪</td>\n",
       "      <td>9.4</td>\n",
       "      <td>912435</td>\n",
       "      <td>英语', '意大利语', '法语</td>\n",
       "      <td>吕克·贝松 Luc Besson</td>\n",
       "      <td>让·雷诺 Jean Reno', '娜塔莉·波特曼 Natalie Portman', '加...</td>\n",
       "      <td>110分钟(剧场版)', '133分钟(国际版)</td>\n",
       "      <td>[{'count': 150097, 'name': '经典'}, {'count': 85...</td>\n",
       "    </tr>\n",
       "    <tr>\n",
       "      <th>3</th>\n",
       "      <td>4</td>\n",
       "      <td>阿甘正传</td>\n",
       "      <td>1994</td>\n",
       "      <td>美国</td>\n",
       "      <td>剧情 爱情</td>\n",
       "      <td>9.4</td>\n",
       "      <td>775889</td>\n",
       "      <td>英语</td>\n",
       "      <td>Robert Zemeckis</td>\n",
       "      <td>Tom Hanks', 'Robin Wright Penn', 'Gary Sinise'...</td>\n",
       "      <td>142 分钟</td>\n",
       "      <td>[{'count': 179046, 'name': '励志'}, {'count': 13...</td>\n",
       "    </tr>\n",
       "    <tr>\n",
       "      <th>4</th>\n",
       "      <td>5</td>\n",
       "      <td>美丽人生</td>\n",
       "      <td>1997</td>\n",
       "      <td>意大利</td>\n",
       "      <td>剧情 喜剧 爱情 战争</td>\n",
       "      <td>9.5</td>\n",
       "      <td>453651</td>\n",
       "      <td>意大利语', '德语', '英语</td>\n",
       "      <td>罗伯托·贝尼尼 Roberto Benigni</td>\n",
       "      <td>罗伯托·贝尼尼 Roberto Benigni', '尼可莱塔·布拉斯基 Nicoletta...</td>\n",
       "      <td>116分钟</td>\n",
       "      <td>[{'count': 70710, 'name': '意大利'}, {'count': 67...</td>\n",
       "    </tr>\n",
       "  </tbody>\n",
       "</table>\n",
       "</div>"
      ],
      "text/plain": [
       "   num    title init_year     area        genre  rating_num  comment_num  \\\n",
       "0    1   肖申克的救赎      1994       美国        犯罪 剧情         9.6       964842   \n",
       "1    2     霸王别姬      1993  中国大陆 香港     剧情 爱情 同性         9.5       699930   \n",
       "2    3  这个杀手不太冷      1994       法国     剧情 动作 犯罪         9.4       912435   \n",
       "3    4     阿甘正传      1994       美国        剧情 爱情         9.4       775889   \n",
       "4    5     美丽人生      1997      意大利  剧情 喜剧 爱情 战争         9.5       453651   \n",
       "\n",
       "           language                 director  \\\n",
       "0                英语  弗兰克·德拉邦特 Frank Darabont   \n",
       "1             汉语普通话           陈凯歌 Kaige Chen   \n",
       "2  英语', '意大利语', '法语         吕克·贝松 Luc Besson   \n",
       "3                英语          Robert Zemeckis   \n",
       "4  意大利语', '德语', '英语  罗伯托·贝尼尼 Roberto Benigni   \n",
       "\n",
       "                                                cast  \\\n",
       "0  蒂姆·罗宾斯 Tim Robbins', '摩根·弗里曼 Morgan Freeman', ...   \n",
       "1  张国荣 Leslie Cheung', '张丰毅 Fengyi Zhang', '巩俐 Li...   \n",
       "2  让·雷诺 Jean Reno', '娜塔莉·波特曼 Natalie Portman', '加...   \n",
       "3  Tom Hanks', 'Robin Wright Penn', 'Gary Sinise'...   \n",
       "4  罗伯托·贝尼尼 Roberto Benigni', '尼可莱塔·布拉斯基 Nicoletta...   \n",
       "\n",
       "             movie_duration                                               tags  \n",
       "0                    142 分钟  [{'count': 197742, 'name': '经典'}, {'count': 16...  \n",
       "1                    171 分钟  [{'count': 124150, 'name': '经典'}, {'count': 63...  \n",
       "2  110分钟(剧场版)', '133分钟(国际版)  [{'count': 150097, 'name': '经典'}, {'count': 85...  \n",
       "3                    142 分钟  [{'count': 179046, 'name': '励志'}, {'count': 13...  \n",
       "4                     116分钟  [{'count': 70710, 'name': '意大利'}, {'count': 67...  "
      ]
     },
     "execution_count": 11,
     "metadata": {},
     "output_type": "execute_result"
    }
   ],
   "source": [
    "df['genre'] = df['genre'].str[2:-2]\n",
    "df['language'] = df['language'].str[2:-2]\n",
    "df['director'] = df['director'].str[2:-2]\n",
    "df['cast'] = df['cast'].str[2:-2]\n",
    "df['movie_duration'] = df['movie_duration'].str[2:-2]\n",
    "\n",
    "df.head()"
   ]
  },
  {
   "cell_type": "markdown",
   "metadata": {},
   "source": [
    "#### 2.4.1 区域 (area) 列内容清洗\n",
    "\n",
    "对于 area 列，有些电影由多个国家或地区联合制作，例如《霸王别姬》电影："
   ]
  },
  {
   "cell_type": "code",
   "execution_count": 12,
   "metadata": {},
   "outputs": [
    {
     "data": {
      "text/plain": [
       "'中国大陆 香港'"
      ]
     },
     "execution_count": 12,
     "metadata": {},
     "output_type": "execute_result"
    }
   ],
   "source": [
    "df['area'][1]"
   ]
  },
  {
   "cell_type": "markdown",
   "metadata": {},
   "source": [
    "上面的“中国大陆”和“香港”之间用空格隔开，可以使用str.split()函数进行分列， 使用apply(pd.Series)将使用到的函数作用在每一行或列。"
   ]
  },
  {
   "cell_type": "code",
   "execution_count": 13,
   "metadata": {},
   "outputs": [
    {
     "data": {
      "text/html": [
       "<div>\n",
       "<style scoped>\n",
       "    .dataframe tbody tr th:only-of-type {\n",
       "        vertical-align: middle;\n",
       "    }\n",
       "\n",
       "    .dataframe tbody tr th {\n",
       "        vertical-align: top;\n",
       "    }\n",
       "\n",
       "    .dataframe thead th {\n",
       "        text-align: right;\n",
       "    }\n",
       "</style>\n",
       "<table border=\"1\" class=\"dataframe\">\n",
       "  <thead>\n",
       "    <tr style=\"text-align: right;\">\n",
       "      <th></th>\n",
       "      <th>0</th>\n",
       "      <th>1</th>\n",
       "      <th>2</th>\n",
       "      <th>3</th>\n",
       "      <th>4</th>\n",
       "    </tr>\n",
       "  </thead>\n",
       "  <tbody>\n",
       "    <tr>\n",
       "      <th>0</th>\n",
       "      <td>美国</td>\n",
       "      <td>NaN</td>\n",
       "      <td>NaN</td>\n",
       "      <td>NaN</td>\n",
       "      <td>NaN</td>\n",
       "    </tr>\n",
       "    <tr>\n",
       "      <th>1</th>\n",
       "      <td>中国大陆</td>\n",
       "      <td>香港</td>\n",
       "      <td>NaN</td>\n",
       "      <td>NaN</td>\n",
       "      <td>NaN</td>\n",
       "    </tr>\n",
       "    <tr>\n",
       "      <th>2</th>\n",
       "      <td>法国</td>\n",
       "      <td>NaN</td>\n",
       "      <td>NaN</td>\n",
       "      <td>NaN</td>\n",
       "      <td>NaN</td>\n",
       "    </tr>\n",
       "    <tr>\n",
       "      <th>3</th>\n",
       "      <td>美国</td>\n",
       "      <td>NaN</td>\n",
       "      <td>NaN</td>\n",
       "      <td>NaN</td>\n",
       "      <td>NaN</td>\n",
       "    </tr>\n",
       "    <tr>\n",
       "      <th>4</th>\n",
       "      <td>意大利</td>\n",
       "      <td>NaN</td>\n",
       "      <td>NaN</td>\n",
       "      <td>NaN</td>\n",
       "      <td>NaN</td>\n",
       "    </tr>\n",
       "  </tbody>\n",
       "</table>\n",
       "</div>"
      ],
      "text/plain": [
       "      0    1    2    3    4\n",
       "0    美国  NaN  NaN  NaN  NaN\n",
       "1  中国大陆   香港  NaN  NaN  NaN\n",
       "2    法国  NaN  NaN  NaN  NaN\n",
       "3    美国  NaN  NaN  NaN  NaN\n",
       "4   意大利  NaN  NaN  NaN  NaN"
      ]
     },
     "execution_count": 13,
     "metadata": {},
     "output_type": "execute_result"
    }
   ],
   "source": [
    "area_split = df['area'].str.split(' ').apply(pd.Series)\n",
    "area_split.head()"
   ]
  },
  {
   "cell_type": "markdown",
   "metadata": {},
   "source": [
    "可以看到最多为5个制作国家/地区，当然，大多数只有一个制片国家/地区。要了解哪个国家/地区的电影最受欢迎，就需要对国家进行统计。\n",
    "\n",
    "\n",
    "对于这么多的空值，可以通过先按列计数，将空值 NaN 替换为“0”，再按行汇总。"
   ]
  },
  {
   "cell_type": "code",
   "execution_count": 14,
   "metadata": {},
   "outputs": [
    {
     "data": {
      "text/html": [
       "<div>\n",
       "<style scoped>\n",
       "    .dataframe tbody tr th:only-of-type {\n",
       "        vertical-align: middle;\n",
       "    }\n",
       "\n",
       "    .dataframe tbody tr th {\n",
       "        vertical-align: top;\n",
       "    }\n",
       "\n",
       "    .dataframe thead th {\n",
       "        text-align: right;\n",
       "    }\n",
       "</style>\n",
       "<table border=\"1\" class=\"dataframe\">\n",
       "  <thead>\n",
       "    <tr style=\"text-align: right;\">\n",
       "      <th></th>\n",
       "      <th>0</th>\n",
       "      <th>1</th>\n",
       "      <th>2</th>\n",
       "      <th>3</th>\n",
       "      <th>4</th>\n",
       "    </tr>\n",
       "  </thead>\n",
       "  <tbody>\n",
       "    <tr>\n",
       "      <th>中国大陆</th>\n",
       "      <td>11</td>\n",
       "      <td>5</td>\n",
       "      <td>0</td>\n",
       "      <td>0</td>\n",
       "      <td>0</td>\n",
       "    </tr>\n",
       "    <tr>\n",
       "      <th>丹麦</th>\n",
       "      <td>1</td>\n",
       "      <td>0</td>\n",
       "      <td>0</td>\n",
       "      <td>0</td>\n",
       "      <td>0</td>\n",
       "    </tr>\n",
       "    <tr>\n",
       "      <th>伊朗</th>\n",
       "      <td>2</td>\n",
       "      <td>0</td>\n",
       "      <td>0</td>\n",
       "      <td>0</td>\n",
       "      <td>0</td>\n",
       "    </tr>\n",
       "    <tr>\n",
       "      <th>冰岛</th>\n",
       "      <td>0</td>\n",
       "      <td>0</td>\n",
       "      <td>0</td>\n",
       "      <td>1</td>\n",
       "      <td>0</td>\n",
       "    </tr>\n",
       "    <tr>\n",
       "      <th>加拿大</th>\n",
       "      <td>0</td>\n",
       "      <td>5</td>\n",
       "      <td>1</td>\n",
       "      <td>1</td>\n",
       "      <td>0</td>\n",
       "    </tr>\n",
       "  </tbody>\n",
       "</table>\n",
       "</div>"
      ],
      "text/plain": [
       "       0  1  2  3  4\n",
       "中国大陆  11  5  0  0  0\n",
       "丹麦     1  0  0  0  0\n",
       "伊朗     2  0  0  0  0\n",
       "冰岛     0  0  0  1  0\n",
       "加拿大    0  5  1  1  0"
      ]
     },
     "execution_count": 14,
     "metadata": {},
     "output_type": "execute_result"
    }
   ],
   "source": [
    "# 对每一列的值重合的作了一个汇总统计，同时NaN值用0填充\n",
    "temp = area_split.apply(pd.value_counts).fillna('0')\n",
    "temp.head()"
   ]
  },
  {
   "cell_type": "code",
   "execution_count": 15,
   "metadata": {},
   "outputs": [
    {
     "data": {
      "text/html": [
       "<div>\n",
       "<style scoped>\n",
       "    .dataframe tbody tr th:only-of-type {\n",
       "        vertical-align: middle;\n",
       "    }\n",
       "\n",
       "    .dataframe tbody tr th {\n",
       "        vertical-align: top;\n",
       "    }\n",
       "\n",
       "    .dataframe thead th {\n",
       "        text-align: right;\n",
       "    }\n",
       "</style>\n",
       "<table border=\"1\" class=\"dataframe\">\n",
       "  <thead>\n",
       "    <tr style=\"text-align: right;\">\n",
       "      <th></th>\n",
       "      <th>counts</th>\n",
       "    </tr>\n",
       "  </thead>\n",
       "  <tbody>\n",
       "    <tr>\n",
       "      <th>中国大陆</th>\n",
       "      <td>16</td>\n",
       "    </tr>\n",
       "    <tr>\n",
       "      <th>丹麦</th>\n",
       "      <td>1</td>\n",
       "    </tr>\n",
       "    <tr>\n",
       "      <th>伊朗</th>\n",
       "      <td>2</td>\n",
       "    </tr>\n",
       "    <tr>\n",
       "      <th>冰岛</th>\n",
       "      <td>1</td>\n",
       "    </tr>\n",
       "    <tr>\n",
       "      <th>加拿大</th>\n",
       "      <td>7</td>\n",
       "    </tr>\n",
       "  </tbody>\n",
       "</table>\n",
       "</div>"
      ],
      "text/plain": [
       "      counts\n",
       "中国大陆      16\n",
       "丹麦         1\n",
       "伊朗         2\n",
       "冰岛         1\n",
       "加拿大        7"
      ]
     },
     "execution_count": 15,
     "metadata": {},
     "output_type": "execute_result"
    }
   ],
   "source": [
    "# 对每一列的值重合的作了一个汇总统计，同时NaN值用0填充\n",
    "temp = area_split.apply(pd.value_counts).fillna('0') \n",
    "\n",
    "# 分别用：'area_1',...'area-5’重新填充a表里每列\n",
    "temp.columns = ['area_1','area_2','area_3','area_4','area_5']\n",
    "\n",
    "# 由于Python不允许直接把浮点型数字和字符拼接在一起，所以这边需要将浮点型转换为整型\n",
    "temp['area_1'] = temp['area_1'].astype(int)\n",
    "temp['area_2'] = temp['area_2'].astype(int)\n",
    "temp['area_3'] = temp['area_3'].astype(int)\n",
    "temp['area_4'] = temp['area_4'].astype(int)\n",
    "temp['area_5'] = temp['area_5'].astype(int)\n",
    "\n",
    "# 将每一行的数据汇总后，变成一列显示 （axis=1代表行汇总）\n",
    "temp = temp.apply(lambda x: x.sum(), axis =1)\n",
    "\n",
    "# 包装成一个标准的DataFrame\n",
    "area_c = pd.DataFrame(temp, columns = ['counts'])\n",
    "area_c.head()"
   ]
  },
  {
   "cell_type": "markdown",
   "metadata": {},
   "source": [
    "#### 2.4.2 电影类型（genre）列内容清洗\n",
    "\n",
    "以上过程也可以通过 unstack() 函数和 groupby() 函数来完成。 对 genre 列，我们使用这一方法。"
   ]
  },
  {
   "cell_type": "code",
   "execution_count": 16,
   "metadata": {
    "scrolled": true
   },
   "outputs": [
    {
     "data": {
      "text/html": [
       "<div>\n",
       "<style scoped>\n",
       "    .dataframe tbody tr th:only-of-type {\n",
       "        vertical-align: middle;\n",
       "    }\n",
       "\n",
       "    .dataframe tbody tr th {\n",
       "        vertical-align: top;\n",
       "    }\n",
       "\n",
       "    .dataframe thead th {\n",
       "        text-align: right;\n",
       "    }\n",
       "</style>\n",
       "<table border=\"1\" class=\"dataframe\">\n",
       "  <thead>\n",
       "    <tr style=\"text-align: right;\">\n",
       "      <th></th>\n",
       "      <th>0</th>\n",
       "      <th>1</th>\n",
       "      <th>2</th>\n",
       "      <th>3</th>\n",
       "      <th>4</th>\n",
       "      <th>5</th>\n",
       "    </tr>\n",
       "  </thead>\n",
       "  <tbody>\n",
       "    <tr>\n",
       "      <th>0</th>\n",
       "      <td>犯罪</td>\n",
       "      <td>剧情</td>\n",
       "      <td>NaN</td>\n",
       "      <td>NaN</td>\n",
       "      <td>NaN</td>\n",
       "      <td>NaN</td>\n",
       "    </tr>\n",
       "    <tr>\n",
       "      <th>1</th>\n",
       "      <td>剧情</td>\n",
       "      <td>爱情</td>\n",
       "      <td>同性</td>\n",
       "      <td>NaN</td>\n",
       "      <td>NaN</td>\n",
       "      <td>NaN</td>\n",
       "    </tr>\n",
       "    <tr>\n",
       "      <th>2</th>\n",
       "      <td>剧情</td>\n",
       "      <td>动作</td>\n",
       "      <td>犯罪</td>\n",
       "      <td>NaN</td>\n",
       "      <td>NaN</td>\n",
       "      <td>NaN</td>\n",
       "    </tr>\n",
       "    <tr>\n",
       "      <th>3</th>\n",
       "      <td>剧情</td>\n",
       "      <td>爱情</td>\n",
       "      <td>NaN</td>\n",
       "      <td>NaN</td>\n",
       "      <td>NaN</td>\n",
       "      <td>NaN</td>\n",
       "    </tr>\n",
       "    <tr>\n",
       "      <th>4</th>\n",
       "      <td>剧情</td>\n",
       "      <td>喜剧</td>\n",
       "      <td>爱情</td>\n",
       "      <td>战争</td>\n",
       "      <td>NaN</td>\n",
       "      <td>NaN</td>\n",
       "    </tr>\n",
       "  </tbody>\n",
       "</table>\n",
       "</div>"
      ],
      "text/plain": [
       "    0   1    2    3    4    5\n",
       "0  犯罪  剧情  NaN  NaN  NaN  NaN\n",
       "1  剧情  爱情   同性  NaN  NaN  NaN\n",
       "2  剧情  动作   犯罪  NaN  NaN  NaN\n",
       "3  剧情  爱情  NaN  NaN  NaN  NaN\n",
       "4  剧情  喜剧   爱情   战争  NaN  NaN"
      ]
     },
     "execution_count": 16,
     "metadata": {},
     "output_type": "execute_result"
    }
   ],
   "source": [
    "# 对电影类型进行拆分（空格分隔）利用apply(pd.Series)应用到每一行\n",
    "genre_split = df['genre'].str.split(' ').apply(pd.Series)\n",
    "genre_split.head()"
   ]
  },
  {
   "cell_type": "code",
   "execution_count": 17,
   "metadata": {
    "scrolled": true
   },
   "outputs": [
    {
     "data": {
      "text/html": [
       "<div>\n",
       "<style scoped>\n",
       "    .dataframe tbody tr th:only-of-type {\n",
       "        vertical-align: middle;\n",
       "    }\n",
       "\n",
       "    .dataframe tbody tr th {\n",
       "        vertical-align: top;\n",
       "    }\n",
       "\n",
       "    .dataframe thead th {\n",
       "        text-align: right;\n",
       "    }\n",
       "</style>\n",
       "<table border=\"1\" class=\"dataframe\">\n",
       "  <thead>\n",
       "    <tr style=\"text-align: right;\">\n",
       "      <th></th>\n",
       "      <th>0</th>\n",
       "      <th>1</th>\n",
       "      <th>2</th>\n",
       "      <th>3</th>\n",
       "      <th>4</th>\n",
       "      <th>5</th>\n",
       "    </tr>\n",
       "  </thead>\n",
       "  <tbody>\n",
       "    <tr>\n",
       "      <th>传记</th>\n",
       "      <td>2.0</td>\n",
       "      <td>12.0</td>\n",
       "      <td>NaN</td>\n",
       "      <td>NaN</td>\n",
       "      <td>NaN</td>\n",
       "      <td>NaN</td>\n",
       "    </tr>\n",
       "    <tr>\n",
       "      <th>儿童</th>\n",
       "      <td>2.0</td>\n",
       "      <td>2.0</td>\n",
       "      <td>2.0</td>\n",
       "      <td>NaN</td>\n",
       "      <td>NaN</td>\n",
       "      <td>NaN</td>\n",
       "    </tr>\n",
       "    <tr>\n",
       "      <th>冒险</th>\n",
       "      <td>6.0</td>\n",
       "      <td>4.0</td>\n",
       "      <td>13.0</td>\n",
       "      <td>14.0</td>\n",
       "      <td>2.0</td>\n",
       "      <td>1.0</td>\n",
       "    </tr>\n",
       "    <tr>\n",
       "      <th>剧情</th>\n",
       "      <td>165.0</td>\n",
       "      <td>25.0</td>\n",
       "      <td>5.0</td>\n",
       "      <td>NaN</td>\n",
       "      <td>NaN</td>\n",
       "      <td>NaN</td>\n",
       "    </tr>\n",
       "    <tr>\n",
       "      <th>动作</th>\n",
       "      <td>14.0</td>\n",
       "      <td>14.0</td>\n",
       "      <td>2.0</td>\n",
       "      <td>NaN</td>\n",
       "      <td>NaN</td>\n",
       "      <td>NaN</td>\n",
       "    </tr>\n",
       "  </tbody>\n",
       "</table>\n",
       "</div>"
      ],
      "text/plain": [
       "        0     1     2     3    4    5\n",
       "传记    2.0  12.0   NaN   NaN  NaN  NaN\n",
       "儿童    2.0   2.0   2.0   NaN  NaN  NaN\n",
       "冒险    6.0   4.0  13.0  14.0  2.0  1.0\n",
       "剧情  165.0  25.0   5.0   NaN  NaN  NaN\n",
       "动作   14.0  14.0   2.0   NaN  NaN  NaN"
      ]
     },
     "execution_count": 17,
     "metadata": {},
     "output_type": "execute_result"
    }
   ],
   "source": [
    "# 对每一列的值重合的作了一个汇总统计\n",
    "g = genre_split.apply(pd.value_counts)\n",
    "g.head()"
   ]
  },
  {
   "cell_type": "markdown",
   "metadata": {},
   "source": [
    "通过 unstack 函数将行“旋转”为列，重排数据："
   ]
  },
  {
   "cell_type": "code",
   "execution_count": 18,
   "metadata": {},
   "outputs": [
    {
     "data": {
      "text/html": [
       "<div>\n",
       "<style scoped>\n",
       "    .dataframe tbody tr th:only-of-type {\n",
       "        vertical-align: middle;\n",
       "    }\n",
       "\n",
       "    .dataframe tbody tr th {\n",
       "        vertical-align: top;\n",
       "    }\n",
       "\n",
       "    .dataframe thead th {\n",
       "        text-align: right;\n",
       "    }\n",
       "</style>\n",
       "<table border=\"1\" class=\"dataframe\">\n",
       "  <thead>\n",
       "    <tr style=\"text-align: right;\">\n",
       "      <th></th>\n",
       "      <th>level_0</th>\n",
       "      <th>level_1</th>\n",
       "      <th>0</th>\n",
       "    </tr>\n",
       "  </thead>\n",
       "  <tbody>\n",
       "    <tr>\n",
       "      <th>0</th>\n",
       "      <td>0</td>\n",
       "      <td>传记</td>\n",
       "      <td>2.0</td>\n",
       "    </tr>\n",
       "    <tr>\n",
       "      <th>1</th>\n",
       "      <td>0</td>\n",
       "      <td>儿童</td>\n",
       "      <td>2.0</td>\n",
       "    </tr>\n",
       "    <tr>\n",
       "      <th>2</th>\n",
       "      <td>0</td>\n",
       "      <td>冒险</td>\n",
       "      <td>6.0</td>\n",
       "    </tr>\n",
       "    <tr>\n",
       "      <th>3</th>\n",
       "      <td>0</td>\n",
       "      <td>剧情</td>\n",
       "      <td>165.0</td>\n",
       "    </tr>\n",
       "    <tr>\n",
       "      <th>4</th>\n",
       "      <td>0</td>\n",
       "      <td>动作</td>\n",
       "      <td>14.0</td>\n",
       "    </tr>\n",
       "  </tbody>\n",
       "</table>\n",
       "</div>"
      ],
      "text/plain": [
       "   level_0 level_1      0\n",
       "0        0      传记    2.0\n",
       "1        0      儿童    2.0\n",
       "2        0      冒险    6.0\n",
       "3        0      剧情  165.0\n",
       "4        0      动作   14.0"
      ]
     },
     "execution_count": 18,
     "metadata": {},
     "output_type": "execute_result"
    }
   ],
   "source": [
    "# 利用unstack()函数作一个行列转换，同时删除NaN值，同时转换为DataFrame\n",
    "g = g.unstack().dropna().reset_index()\n",
    "g.head()"
   ]
  },
  {
   "cell_type": "code",
   "execution_count": 19,
   "metadata": {
    "scrolled": true
   },
   "outputs": [
    {
     "data": {
      "text/html": [
       "<div>\n",
       "<style scoped>\n",
       "    .dataframe tbody tr th:only-of-type {\n",
       "        vertical-align: middle;\n",
       "    }\n",
       "\n",
       "    .dataframe tbody tr th {\n",
       "        vertical-align: top;\n",
       "    }\n",
       "\n",
       "    .dataframe thead th {\n",
       "        text-align: right;\n",
       "    }\n",
       "</style>\n",
       "<table border=\"1\" class=\"dataframe\">\n",
       "  <thead>\n",
       "    <tr style=\"text-align: right;\">\n",
       "      <th></th>\n",
       "      <th>counts</th>\n",
       "    </tr>\n",
       "    <tr>\n",
       "      <th>level_1</th>\n",
       "      <th></th>\n",
       "    </tr>\n",
       "  </thead>\n",
       "  <tbody>\n",
       "    <tr>\n",
       "      <th>剧情</th>\n",
       "      <td>195.0</td>\n",
       "    </tr>\n",
       "    <tr>\n",
       "      <th>爱情</th>\n",
       "      <td>61.0</td>\n",
       "    </tr>\n",
       "    <tr>\n",
       "      <th>喜剧</th>\n",
       "      <td>48.0</td>\n",
       "    </tr>\n",
       "    <tr>\n",
       "      <th>犯罪</th>\n",
       "      <td>45.0</td>\n",
       "    </tr>\n",
       "    <tr>\n",
       "      <th>冒险</th>\n",
       "      <td>40.0</td>\n",
       "    </tr>\n",
       "  </tbody>\n",
       "</table>\n",
       "</div>"
      ],
      "text/plain": [
       "         counts\n",
       "level_1        \n",
       "剧情        195.0\n",
       "爱情         61.0\n",
       "喜剧         48.0\n",
       "犯罪         45.0\n",
       "冒险         40.0"
      ]
     },
     "execution_count": 19,
     "metadata": {},
     "output_type": "execute_result"
    }
   ],
   "source": [
    "# 把数据进行列命名\n",
    "g.columns = ['level_0','level_1', 'counts']\n",
    "\n",
    "# 删除‘level_0'(第一列)，同时按照 ’level_1'字段的值进行分组，同时汇总\n",
    "genre_c = g.drop(['level_0'], axis = 1).groupby('level_1').sum()\n",
    "\n",
    "# 按‘counts’字段降序排列\n",
    "genre_c.sort_values('counts',ascending=False).head()"
   ]
  },
  {
   "cell_type": "markdown",
   "metadata": {},
   "source": [
    "#### 2.4.3 电影语言（language）列内容清洗\n",
    "\n",
    "使用类似的方法来处理Language列。"
   ]
  },
  {
   "cell_type": "code",
   "execution_count": 20,
   "metadata": {},
   "outputs": [
    {
     "data": {
      "text/plain": [
       "0                  英语\n",
       "1               汉语普通话\n",
       "2    英语', '意大利语', '法语\n",
       "3                  英语\n",
       "4    意大利语', '德语', '英语\n",
       "Name: language, dtype: object"
      ]
     },
     "execution_count": 20,
     "metadata": {},
     "output_type": "execute_result"
    }
   ],
   "source": [
    "df['language'].head()"
   ]
  },
  {
   "cell_type": "code",
   "execution_count": 21,
   "metadata": {},
   "outputs": [
    {
     "data": {
      "text/html": [
       "<div>\n",
       "<style scoped>\n",
       "    .dataframe tbody tr th:only-of-type {\n",
       "        vertical-align: middle;\n",
       "    }\n",
       "\n",
       "    .dataframe tbody tr th {\n",
       "        vertical-align: top;\n",
       "    }\n",
       "\n",
       "    .dataframe thead th {\n",
       "        text-align: right;\n",
       "    }\n",
       "</style>\n",
       "<table border=\"1\" class=\"dataframe\">\n",
       "  <thead>\n",
       "    <tr style=\"text-align: right;\">\n",
       "      <th></th>\n",
       "      <th>counts</th>\n",
       "    </tr>\n",
       "    <tr>\n",
       "      <th>level_0</th>\n",
       "      <th></th>\n",
       "    </tr>\n",
       "  </thead>\n",
       "  <tbody>\n",
       "    <tr>\n",
       "      <th>Ungwatsi</th>\n",
       "      <td>1.0</td>\n",
       "    </tr>\n",
       "    <tr>\n",
       "      <th>上海话</th>\n",
       "      <td>4.0</td>\n",
       "    </tr>\n",
       "    <tr>\n",
       "      <th>世界语</th>\n",
       "      <td>1.0</td>\n",
       "    </tr>\n",
       "    <tr>\n",
       "      <th>丹麦语</th>\n",
       "      <td>2.0</td>\n",
       "    </tr>\n",
       "    <tr>\n",
       "      <th>乌克兰语</th>\n",
       "      <td>1.0</td>\n",
       "    </tr>\n",
       "  </tbody>\n",
       "</table>\n",
       "</div>"
      ],
      "text/plain": [
       "          counts\n",
       "level_0         \n",
       "Ungwatsi     1.0\n",
       "上海话          4.0\n",
       "世界语          1.0\n",
       "丹麦语          2.0\n",
       "乌克兰语         1.0"
      ]
     },
     "execution_count": 21,
     "metadata": {},
     "output_type": "execute_result"
    }
   ],
   "source": [
    "language_split = df['language'].str.replace('\\', \\'',' ').str.split(' ').apply(pd.Series)\n",
    "l = language_split.apply(pd.value_counts).stack().dropna().reset_index()\n",
    "l.columns = ['level_0','level_1', 'counts']\n",
    "language_c = l.groupby('level_0').sum()\n",
    "language_c = language_c.drop(['level_1'],axis = 1)\n",
    "language_c.head()"
   ]
  },
  {
   "cell_type": "markdown",
   "metadata": {},
   "source": [
    "#### 2.4.4 电影导演（director ）列内容清洗"
   ]
  },
  {
   "cell_type": "code",
   "execution_count": 22,
   "metadata": {},
   "outputs": [
    {
     "data": {
      "text/plain": [
       "0    弗兰克·德拉邦特 Frank Darabont\n",
       "1             陈凯歌 Kaige Chen\n",
       "2           吕克·贝松 Luc Besson\n",
       "3            Robert Zemeckis\n",
       "4    罗伯托·贝尼尼 Roberto Benigni\n",
       "Name: director, dtype: object"
      ]
     },
     "execution_count": 22,
     "metadata": {},
     "output_type": "execute_result"
    }
   ],
   "source": [
    "director_split = df['director'].str.replace('\\', \\'','#').str.split('#').apply(pd.Series)\n",
    "director = director_split[0].str.strip()\n",
    "df['director'] = director\n",
    "df['director'].head()"
   ]
  },
  {
   "cell_type": "markdown",
   "metadata": {},
   "source": [
    "#### 2.4.5 电影演员（cast ）列内容清洗"
   ]
  },
  {
   "cell_type": "code",
   "execution_count": 23,
   "metadata": {},
   "outputs": [
    {
     "data": {
      "text/html": [
       "<div>\n",
       "<style scoped>\n",
       "    .dataframe tbody tr th:only-of-type {\n",
       "        vertical-align: middle;\n",
       "    }\n",
       "\n",
       "    .dataframe tbody tr th {\n",
       "        vertical-align: top;\n",
       "    }\n",
       "\n",
       "    .dataframe thead th {\n",
       "        text-align: right;\n",
       "    }\n",
       "</style>\n",
       "<table border=\"1\" class=\"dataframe\">\n",
       "  <thead>\n",
       "    <tr style=\"text-align: right;\">\n",
       "      <th></th>\n",
       "      <th>0</th>\n",
       "      <th>1</th>\n",
       "      <th>2</th>\n",
       "      <th>3</th>\n",
       "      <th>4</th>\n",
       "      <th>5</th>\n",
       "      <th>6</th>\n",
       "      <th>7</th>\n",
       "      <th>8</th>\n",
       "      <th>9</th>\n",
       "      <th>...</th>\n",
       "      <th>34</th>\n",
       "      <th>35</th>\n",
       "      <th>36</th>\n",
       "      <th>37</th>\n",
       "      <th>38</th>\n",
       "      <th>39</th>\n",
       "      <th>40</th>\n",
       "      <th>41</th>\n",
       "      <th>42</th>\n",
       "      <th>43</th>\n",
       "    </tr>\n",
       "  </thead>\n",
       "  <tbody>\n",
       "    <tr>\n",
       "      <th>0</th>\n",
       "      <td>蒂姆·罗宾斯 Tim Robbins</td>\n",
       "      <td>摩根·弗里曼 Morgan Freeman</td>\n",
       "      <td>鲍勃·冈顿 Bob Gunton</td>\n",
       "      <td>威廉姆·赛德勒 William Sadler</td>\n",
       "      <td>克兰西·布朗 Clancy Brown</td>\n",
       "      <td>吉尔·贝罗斯 Gil Bellows</td>\n",
       "      <td>马克·罗斯顿 Mark Rolston</td>\n",
       "      <td>詹姆斯·惠特摩 James Whitmore</td>\n",
       "      <td>杰弗里·德曼 Jeffrey DeMunn</td>\n",
       "      <td>拉里·布兰登伯格 Larry Brandenburg</td>\n",
       "      <td>...</td>\n",
       "      <td>NaN</td>\n",
       "      <td>NaN</td>\n",
       "      <td>NaN</td>\n",
       "      <td>NaN</td>\n",
       "      <td>NaN</td>\n",
       "      <td>NaN</td>\n",
       "      <td>NaN</td>\n",
       "      <td>NaN</td>\n",
       "      <td>NaN</td>\n",
       "      <td>NaN</td>\n",
       "    </tr>\n",
       "    <tr>\n",
       "      <th>1</th>\n",
       "      <td>张国荣 Leslie Cheung</td>\n",
       "      <td>张丰毅 Fengyi Zhang</td>\n",
       "      <td>巩俐 Li Gong</td>\n",
       "      <td>葛优 You Ge</td>\n",
       "      <td>英达 Da Ying</td>\n",
       "      <td>蒋雯丽 Wenli Jiang</td>\n",
       "      <td>吴大维 David Wu</td>\n",
       "      <td>吕齐 Qi Lü</td>\n",
       "      <td>雷汉 Han Lei</td>\n",
       "      <td>尹治 Zhi Yin</td>\n",
       "      <td>...</td>\n",
       "      <td>NaN</td>\n",
       "      <td>NaN</td>\n",
       "      <td>NaN</td>\n",
       "      <td>NaN</td>\n",
       "      <td>NaN</td>\n",
       "      <td>NaN</td>\n",
       "      <td>NaN</td>\n",
       "      <td>NaN</td>\n",
       "      <td>NaN</td>\n",
       "      <td>NaN</td>\n",
       "    </tr>\n",
       "    <tr>\n",
       "      <th>2</th>\n",
       "      <td>让·雷诺 Jean Reno</td>\n",
       "      <td>娜塔莉·波特曼 Natalie Portman</td>\n",
       "      <td>加里·奥德曼 Gary Oldman</td>\n",
       "      <td>丹尼·爱罗 Danny Aiello</td>\n",
       "      <td>彼得·阿佩尔 Peter Appel</td>\n",
       "      <td>迈克尔·巴达鲁科 Michael Badalucco</td>\n",
       "      <td>艾伦·格里尼 Ellen Greene</td>\n",
       "      <td>伊丽莎白·瑞根 Elizabeth Regen</td>\n",
       "      <td>卡尔·马图斯维奇 Carl J. Matusovich</td>\n",
       "      <td>弗兰克·赛格 Frank Senger</td>\n",
       "      <td>...</td>\n",
       "      <td>NaN</td>\n",
       "      <td>NaN</td>\n",
       "      <td>NaN</td>\n",
       "      <td>NaN</td>\n",
       "      <td>NaN</td>\n",
       "      <td>NaN</td>\n",
       "      <td>NaN</td>\n",
       "      <td>NaN</td>\n",
       "      <td>NaN</td>\n",
       "      <td>NaN</td>\n",
       "    </tr>\n",
       "    <tr>\n",
       "      <th>3</th>\n",
       "      <td>Tom Hanks</td>\n",
       "      <td>Robin Wright Penn</td>\n",
       "      <td>Gary Sinise</td>\n",
       "      <td>Mykelti Williamson</td>\n",
       "      <td>Sally Field</td>\n",
       "      <td>Michael Conner Humphreys</td>\n",
       "      <td>Haley Joel Osment</td>\n",
       "      <td>NaN</td>\n",
       "      <td>NaN</td>\n",
       "      <td>NaN</td>\n",
       "      <td>...</td>\n",
       "      <td>NaN</td>\n",
       "      <td>NaN</td>\n",
       "      <td>NaN</td>\n",
       "      <td>NaN</td>\n",
       "      <td>NaN</td>\n",
       "      <td>NaN</td>\n",
       "      <td>NaN</td>\n",
       "      <td>NaN</td>\n",
       "      <td>NaN</td>\n",
       "      <td>NaN</td>\n",
       "    </tr>\n",
       "    <tr>\n",
       "      <th>4</th>\n",
       "      <td>罗伯托·贝尼尼 Roberto Benigni</td>\n",
       "      <td>尼可莱塔·布拉斯基 Nicoletta Braschi</td>\n",
       "      <td>乔治·坎塔里尼 Giorgio Cantarini</td>\n",
       "      <td>朱斯蒂诺·杜拉诺 Giustino Durano</td>\n",
       "      <td>塞尔吉奥·比尼·布斯特里克 Sergio Bini Bustric</td>\n",
       "      <td>玛丽莎·佩雷德斯 Marisa Paredes</td>\n",
       "      <td>豪斯特·巴奇霍兹 Horst Buchholz</td>\n",
       "      <td>利迪娅·阿方西 Lidia Alfonsi</td>\n",
       "      <td>朱利亚娜·洛约迪切 Giuliana Lojodice</td>\n",
       "      <td>亚美利哥·丰塔尼 Amerigo Fontani</td>\n",
       "      <td>...</td>\n",
       "      <td>NaN</td>\n",
       "      <td>NaN</td>\n",
       "      <td>NaN</td>\n",
       "      <td>NaN</td>\n",
       "      <td>NaN</td>\n",
       "      <td>NaN</td>\n",
       "      <td>NaN</td>\n",
       "      <td>NaN</td>\n",
       "      <td>NaN</td>\n",
       "      <td>NaN</td>\n",
       "    </tr>\n",
       "  </tbody>\n",
       "</table>\n",
       "<p>5 rows × 44 columns</p>\n",
       "</div>"
      ],
      "text/plain": [
       "                        0                            1   \\\n",
       "0       蒂姆·罗宾斯 Tim Robbins        摩根·弗里曼 Morgan Freeman   \n",
       "1        张国荣 Leslie Cheung             张丰毅 Fengyi Zhang   \n",
       "2           让·雷诺 Jean Reno      娜塔莉·波特曼 Natalie Portman   \n",
       "3                Tom Hanks            Robin Wright Penn   \n",
       "4  罗伯托·贝尼尼 Roberto Benigni  尼可莱塔·布拉斯基 Nicoletta Braschi   \n",
       "\n",
       "                          2                         3   \\\n",
       "0           鲍勃·冈顿 Bob Gunton    威廉姆·赛德勒 William Sadler   \n",
       "1                 巩俐 Li Gong                 葛优 You Ge   \n",
       "2         加里·奥德曼 Gary Oldman        丹尼·爱罗 Danny Aiello   \n",
       "3                Gary Sinise        Mykelti Williamson   \n",
       "4  乔治·坎塔里尼 Giorgio Cantarini  朱斯蒂诺·杜拉诺 Giustino Durano   \n",
       "\n",
       "                                  4                           5   \\\n",
       "0                克兰西·布朗 Clancy Brown          吉尔·贝罗斯 Gil Bellows   \n",
       "1                         英达 Da Ying             蒋雯丽 Wenli Jiang   \n",
       "2                 彼得·阿佩尔 Peter Appel  迈克尔·巴达鲁科 Michael Badalucco   \n",
       "3                        Sally Field    Michael Conner Humphreys   \n",
       "4  塞尔吉奥·比尼·布斯特里克 Sergio Bini Bustric     玛丽莎·佩雷德斯 Marisa Paredes   \n",
       "\n",
       "                        6                        7   \\\n",
       "0      马克·罗斯顿 Mark Rolston   詹姆斯·惠特摩 James Whitmore   \n",
       "1             吴大维 David Wu                 吕齐 Qi Lü   \n",
       "2      艾伦·格里尼 Ellen Greene  伊丽莎白·瑞根 Elizabeth Regen   \n",
       "3        Haley Joel Osment                      NaN   \n",
       "4  豪斯特·巴奇霍兹 Horst Buchholz    利迪娅·阿方西 Lidia Alfonsi   \n",
       "\n",
       "                            8                           9   ...   34   35  \\\n",
       "0        杰弗里·德曼 Jeffrey DeMunn  拉里·布兰登伯格 Larry Brandenburg  ...  NaN  NaN   \n",
       "1                   雷汉 Han Lei                  尹治 Zhi Yin  ...  NaN  NaN   \n",
       "2  卡尔·马图斯维奇 Carl J. Matusovich         弗兰克·赛格 Frank Senger  ...  NaN  NaN   \n",
       "3                          NaN                         NaN  ...  NaN  NaN   \n",
       "4  朱利亚娜·洛约迪切 Giuliana Lojodice    亚美利哥·丰塔尼 Amerigo Fontani  ...  NaN  NaN   \n",
       "\n",
       "    36   37   38   39   40   41   42   43  \n",
       "0  NaN  NaN  NaN  NaN  NaN  NaN  NaN  NaN  \n",
       "1  NaN  NaN  NaN  NaN  NaN  NaN  NaN  NaN  \n",
       "2  NaN  NaN  NaN  NaN  NaN  NaN  NaN  NaN  \n",
       "3  NaN  NaN  NaN  NaN  NaN  NaN  NaN  NaN  \n",
       "4  NaN  NaN  NaN  NaN  NaN  NaN  NaN  NaN  \n",
       "\n",
       "[5 rows x 44 columns]"
      ]
     },
     "execution_count": 23,
     "metadata": {},
     "output_type": "execute_result"
    }
   ],
   "source": [
    "cast_split = df['cast'].str.replace('\\', \\'','#').str.split('#').apply(pd.Series)\n",
    "cast_split.head()"
   ]
  },
  {
   "cell_type": "markdown",
   "metadata": {},
   "source": [
    "选取前六位演员作为分析对象"
   ]
  },
  {
   "cell_type": "code",
   "execution_count": 24,
   "metadata": {},
   "outputs": [
    {
     "data": {
      "text/html": [
       "<div>\n",
       "<style scoped>\n",
       "    .dataframe tbody tr th:only-of-type {\n",
       "        vertical-align: middle;\n",
       "    }\n",
       "\n",
       "    .dataframe tbody tr th {\n",
       "        vertical-align: top;\n",
       "    }\n",
       "\n",
       "    .dataframe thead th {\n",
       "        text-align: right;\n",
       "    }\n",
       "</style>\n",
       "<table border=\"1\" class=\"dataframe\">\n",
       "  <thead>\n",
       "    <tr style=\"text-align: right;\">\n",
       "      <th></th>\n",
       "      <th>level_0</th>\n",
       "      <th>level_1</th>\n",
       "      <th>0</th>\n",
       "    </tr>\n",
       "  </thead>\n",
       "  <tbody>\n",
       "    <tr>\n",
       "      <th>0</th>\n",
       "      <td>0</td>\n",
       "      <td>0</td>\n",
       "      <td>蒂姆·罗宾斯 Tim Robbins</td>\n",
       "    </tr>\n",
       "    <tr>\n",
       "      <th>1</th>\n",
       "      <td>0</td>\n",
       "      <td>1</td>\n",
       "      <td>张国荣 Leslie Cheung</td>\n",
       "    </tr>\n",
       "    <tr>\n",
       "      <th>2</th>\n",
       "      <td>0</td>\n",
       "      <td>2</td>\n",
       "      <td>让·雷诺 Jean Reno</td>\n",
       "    </tr>\n",
       "    <tr>\n",
       "      <th>3</th>\n",
       "      <td>0</td>\n",
       "      <td>3</td>\n",
       "      <td>Tom Hanks</td>\n",
       "    </tr>\n",
       "    <tr>\n",
       "      <th>4</th>\n",
       "      <td>0</td>\n",
       "      <td>4</td>\n",
       "      <td>罗伯托·贝尼尼 Roberto Benigni</td>\n",
       "    </tr>\n",
       "  </tbody>\n",
       "</table>\n",
       "</div>"
      ],
      "text/plain": [
       "   level_0  level_1                        0\n",
       "0        0        0       蒂姆·罗宾斯 Tim Robbins\n",
       "1        0        1        张国荣 Leslie Cheung\n",
       "2        0        2           让·雷诺 Jean Reno\n",
       "3        0        3                Tom Hanks\n",
       "4        0        4  罗伯托·贝尼尼 Roberto Benigni"
      ]
     },
     "execution_count": 24,
     "metadata": {},
     "output_type": "execute_result"
    }
   ],
   "source": [
    "c = cast_split[[0,1,2,3,4,5]]\n",
    "c.columns=['performer_1','performer_2','performer_3','performer_4','performer_5','performer_6']\n",
    "c = cast_split.unstack().dropna().reset_index()\n",
    "c.head()"
   ]
  },
  {
   "cell_type": "code",
   "execution_count": 25,
   "metadata": {},
   "outputs": [
    {
     "data": {
      "text/html": [
       "<div>\n",
       "<style scoped>\n",
       "    .dataframe tbody tr th:only-of-type {\n",
       "        vertical-align: middle;\n",
       "    }\n",
       "\n",
       "    .dataframe tbody tr th {\n",
       "        vertical-align: top;\n",
       "    }\n",
       "\n",
       "    .dataframe thead th {\n",
       "        text-align: right;\n",
       "    }\n",
       "</style>\n",
       "<table border=\"1\" class=\"dataframe\">\n",
       "  <thead>\n",
       "    <tr style=\"text-align: right;\">\n",
       "      <th></th>\n",
       "      <th>level_0</th>\n",
       "      <th>level_1</th>\n",
       "      <th>performers</th>\n",
       "    </tr>\n",
       "  </thead>\n",
       "  <tbody>\n",
       "    <tr>\n",
       "      <th>0</th>\n",
       "      <td>0</td>\n",
       "      <td>0</td>\n",
       "      <td>蒂姆·罗宾斯 Tim Robbins</td>\n",
       "    </tr>\n",
       "    <tr>\n",
       "      <th>1</th>\n",
       "      <td>0</td>\n",
       "      <td>1</td>\n",
       "      <td>张国荣 Leslie Cheung</td>\n",
       "    </tr>\n",
       "    <tr>\n",
       "      <th>2</th>\n",
       "      <td>0</td>\n",
       "      <td>2</td>\n",
       "      <td>让·雷诺 Jean Reno</td>\n",
       "    </tr>\n",
       "    <tr>\n",
       "      <th>3</th>\n",
       "      <td>0</td>\n",
       "      <td>3</td>\n",
       "      <td>Tom Hanks</td>\n",
       "    </tr>\n",
       "    <tr>\n",
       "      <th>4</th>\n",
       "      <td>0</td>\n",
       "      <td>4</td>\n",
       "      <td>罗伯托·贝尼尼 Roberto Benigni</td>\n",
       "    </tr>\n",
       "  </tbody>\n",
       "</table>\n",
       "</div>"
      ],
      "text/plain": [
       "   level_0  level_1               performers\n",
       "0        0        0       蒂姆·罗宾斯 Tim Robbins\n",
       "1        0        1        张国荣 Leslie Cheung\n",
       "2        0        2           让·雷诺 Jean Reno\n",
       "3        0        3                Tom Hanks\n",
       "4        0        4  罗伯托·贝尼尼 Roberto Benigni"
      ]
     },
     "execution_count": 25,
     "metadata": {},
     "output_type": "execute_result"
    }
   ],
   "source": [
    "c.columns=['level_0','level_1','performers']\n",
    "c['performers'] = c['performers'].str.strip()\n",
    "c.head()"
   ]
  },
  {
   "cell_type": "markdown",
   "metadata": {},
   "source": [
    "演员表中有些人名中英文都标注了，有些只写了中文或英文名，例如“Tom Hanks”和“汤姆·汉克斯 Tom Hanks”是指一个人。下面的步骤是找出单独的中文或英文名，补全为中英两种语言的名字。"
   ]
  },
  {
   "cell_type": "code",
   "execution_count": 26,
   "metadata": {},
   "outputs": [
    {
     "name": "stderr",
     "output_type": "stream",
     "text": [
      "C:\\softwares\\Anaconda3\\lib\\site-packages\\pandas\\core\\strings.py:1954: UserWarning: This pattern has match groups. To actually get the groups, use str.extract.\n",
      "  return func(self, *args, **kwargs)\n"
     ]
    },
    {
     "data": {
      "text/html": [
       "<div>\n",
       "<style scoped>\n",
       "    .dataframe tbody tr th:only-of-type {\n",
       "        vertical-align: middle;\n",
       "    }\n",
       "\n",
       "    .dataframe tbody tr th {\n",
       "        vertical-align: top;\n",
       "    }\n",
       "\n",
       "    .dataframe thead th {\n",
       "        text-align: right;\n",
       "    }\n",
       "</style>\n",
       "<table border=\"1\" class=\"dataframe\">\n",
       "  <thead>\n",
       "    <tr style=\"text-align: right;\">\n",
       "      <th></th>\n",
       "      <th>level_0</th>\n",
       "      <th>level_1</th>\n",
       "      <th>performers</th>\n",
       "    </tr>\n",
       "  </thead>\n",
       "  <tbody>\n",
       "    <tr>\n",
       "      <th>0</th>\n",
       "      <td>0</td>\n",
       "      <td>0</td>\n",
       "      <td>蒂姆·罗宾斯 Tim Robbins</td>\n",
       "    </tr>\n",
       "    <tr>\n",
       "      <th>1</th>\n",
       "      <td>0</td>\n",
       "      <td>1</td>\n",
       "      <td>张国荣 Leslie Cheung</td>\n",
       "    </tr>\n",
       "    <tr>\n",
       "      <th>2</th>\n",
       "      <td>0</td>\n",
       "      <td>2</td>\n",
       "      <td>让·雷诺 Jean Reno</td>\n",
       "    </tr>\n",
       "    <tr>\n",
       "      <th>3</th>\n",
       "      <td>0</td>\n",
       "      <td>3</td>\n",
       "      <td>汤姆·汉克斯 Tom Hanks</td>\n",
       "    </tr>\n",
       "    <tr>\n",
       "      <th>4</th>\n",
       "      <td>0</td>\n",
       "      <td>4</td>\n",
       "      <td>罗伯托·贝尼尼 Roberto Benigni</td>\n",
       "    </tr>\n",
       "  </tbody>\n",
       "</table>\n",
       "</div>"
      ],
      "text/plain": [
       "   level_0  level_1               performers\n",
       "0        0        0       蒂姆·罗宾斯 Tim Robbins\n",
       "1        0        1        张国荣 Leslie Cheung\n",
       "2        0        2           让·雷诺 Jean Reno\n",
       "3        0        3         汤姆·汉克斯 Tom Hanks\n",
       "4        0        4  罗伯托·贝尼尼 Roberto Benigni"
      ]
     },
     "execution_count": 26,
     "metadata": {},
     "output_type": "execute_result"
    }
   ],
   "source": [
    "for i in c['performers']:\n",
    "    for j in c[c['performers'].str.contains(i)]['performers']:\n",
    "        if (len(j) > len(i)):\n",
    "            row =  c[c['performers']==i]\n",
    "            level_0 = row['level_0']\n",
    "            level_1 = row['level_1']\n",
    "            c[c['performers']==i] =[level_0, level_1, j]\n",
    "        else:\n",
    "            continue\n",
    "c.head()"
   ]
  },
  {
   "cell_type": "code",
   "execution_count": 27,
   "metadata": {},
   "outputs": [
    {
     "data": {
      "text/html": [
       "<div>\n",
       "<style scoped>\n",
       "    .dataframe tbody tr th:only-of-type {\n",
       "        vertical-align: middle;\n",
       "    }\n",
       "\n",
       "    .dataframe tbody tr th {\n",
       "        vertical-align: top;\n",
       "    }\n",
       "\n",
       "    .dataframe thead th {\n",
       "        text-align: right;\n",
       "    }\n",
       "</style>\n",
       "<table border=\"1\" class=\"dataframe\">\n",
       "  <thead>\n",
       "    <tr style=\"text-align: right;\">\n",
       "      <th></th>\n",
       "      <th>level_0</th>\n",
       "      <th>level_1</th>\n",
       "    </tr>\n",
       "    <tr>\n",
       "      <th>performers</th>\n",
       "      <th></th>\n",
       "      <th></th>\n",
       "    </tr>\n",
       "  </thead>\n",
       "  <tbody>\n",
       "    <tr>\n",
       "      <th>1976 (乐团)</th>\n",
       "      <td>1</td>\n",
       "      <td>1</td>\n",
       "    </tr>\n",
       "    <tr>\n",
       "      <th>Agnese Nano</th>\n",
       "      <td>1</td>\n",
       "      <td>1</td>\n",
       "    </tr>\n",
       "    <tr>\n",
       "      <th>Aldo Giuffrè</th>\n",
       "      <td>1</td>\n",
       "      <td>1</td>\n",
       "    </tr>\n",
       "    <tr>\n",
       "      <th>Alexandre Rodrigues</th>\n",
       "      <td>1</td>\n",
       "      <td>1</td>\n",
       "    </tr>\n",
       "    <tr>\n",
       "      <th>Alfonso Freeman</th>\n",
       "      <td>1</td>\n",
       "      <td>1</td>\n",
       "    </tr>\n",
       "  </tbody>\n",
       "</table>\n",
       "</div>"
      ],
      "text/plain": [
       "                     level_0  level_1\n",
       "performers                           \n",
       "1976 (乐团)                  1        1\n",
       "Agnese Nano                1        1\n",
       "Aldo Giuffrè               1        1\n",
       "Alexandre Rodrigues        1        1\n",
       "Alfonso Freeman            1        1"
      ]
     },
     "execution_count": 27,
     "metadata": {},
     "output_type": "execute_result"
    }
   ],
   "source": [
    "# 根据演员名称进行分组并计数\n",
    "c = c.groupby('performers').count()\n",
    "c.head()"
   ]
  },
  {
   "cell_type": "markdown",
   "metadata": {},
   "source": [
    "此时 `level_0` 和 `level_1` 的数据是完全一样的，都是表示演员出现的次数,删除 `Level_0` 列。"
   ]
  },
  {
   "cell_type": "code",
   "execution_count": 28,
   "metadata": {},
   "outputs": [
    {
     "data": {
      "text/html": [
       "<div>\n",
       "<style scoped>\n",
       "    .dataframe tbody tr th:only-of-type {\n",
       "        vertical-align: middle;\n",
       "    }\n",
       "\n",
       "    .dataframe tbody tr th {\n",
       "        vertical-align: top;\n",
       "    }\n",
       "\n",
       "    .dataframe thead th {\n",
       "        text-align: right;\n",
       "    }\n",
       "</style>\n",
       "<table border=\"1\" class=\"dataframe\">\n",
       "  <thead>\n",
       "    <tr style=\"text-align: right;\">\n",
       "      <th></th>\n",
       "      <th>counts</th>\n",
       "    </tr>\n",
       "    <tr>\n",
       "      <th>performers</th>\n",
       "      <th></th>\n",
       "    </tr>\n",
       "  </thead>\n",
       "  <tbody>\n",
       "    <tr>\n",
       "      <th>1976 (乐团)</th>\n",
       "      <td>1</td>\n",
       "    </tr>\n",
       "    <tr>\n",
       "      <th>Agnese Nano</th>\n",
       "      <td>1</td>\n",
       "    </tr>\n",
       "    <tr>\n",
       "      <th>Aldo Giuffrè</th>\n",
       "      <td>1</td>\n",
       "    </tr>\n",
       "    <tr>\n",
       "      <th>Alexandre Rodrigues</th>\n",
       "      <td>1</td>\n",
       "    </tr>\n",
       "    <tr>\n",
       "      <th>Alfonso Freeman</th>\n",
       "      <td>1</td>\n",
       "    </tr>\n",
       "  </tbody>\n",
       "</table>\n",
       "</div>"
      ],
      "text/plain": [
       "                     counts\n",
       "performers                 \n",
       "1976 (乐团)                 1\n",
       "Agnese Nano               1\n",
       "Aldo Giuffrè              1\n",
       "Alexandre Rodrigues       1\n",
       "Alfonso Freeman           1"
      ]
     },
     "execution_count": 28,
     "metadata": {},
     "output_type": "execute_result"
    }
   ],
   "source": [
    "c = c.drop(['level_0'], axis = 1)\n",
    "c.columns = ['counts']\n",
    "cast_c = c\n",
    "cast_c.head()"
   ]
  },
  {
   "cell_type": "markdown",
   "metadata": {},
   "source": [
    "#### 2.4.6 电影时长（movie_duration）列内容清洗"
   ]
  },
  {
   "cell_type": "code",
   "execution_count": 29,
   "metadata": {},
   "outputs": [
    {
     "data": {
      "text/html": [
       "<div>\n",
       "<style scoped>\n",
       "    .dataframe tbody tr th:only-of-type {\n",
       "        vertical-align: middle;\n",
       "    }\n",
       "\n",
       "    .dataframe tbody tr th {\n",
       "        vertical-align: top;\n",
       "    }\n",
       "\n",
       "    .dataframe thead th {\n",
       "        text-align: right;\n",
       "    }\n",
       "</style>\n",
       "<table border=\"1\" class=\"dataframe\">\n",
       "  <thead>\n",
       "    <tr style=\"text-align: right;\">\n",
       "      <th></th>\n",
       "      <th>0</th>\n",
       "      <th>1</th>\n",
       "      <th>2</th>\n",
       "      <th>3</th>\n",
       "      <th>4</th>\n",
       "      <th>5</th>\n",
       "    </tr>\n",
       "  </thead>\n",
       "  <tbody>\n",
       "    <tr>\n",
       "      <th>0</th>\n",
       "      <td>142 分钟</td>\n",
       "      <td>NaN</td>\n",
       "      <td>NaN</td>\n",
       "      <td>NaN</td>\n",
       "      <td>NaN</td>\n",
       "      <td>NaN</td>\n",
       "    </tr>\n",
       "    <tr>\n",
       "      <th>1</th>\n",
       "      <td>171 分钟</td>\n",
       "      <td>NaN</td>\n",
       "      <td>NaN</td>\n",
       "      <td>NaN</td>\n",
       "      <td>NaN</td>\n",
       "      <td>NaN</td>\n",
       "    </tr>\n",
       "    <tr>\n",
       "      <th>2</th>\n",
       "      <td>110分钟(剧场版)</td>\n",
       "      <td>133分钟(国际版)</td>\n",
       "      <td>NaN</td>\n",
       "      <td>NaN</td>\n",
       "      <td>NaN</td>\n",
       "      <td>NaN</td>\n",
       "    </tr>\n",
       "    <tr>\n",
       "      <th>3</th>\n",
       "      <td>142 分钟</td>\n",
       "      <td>NaN</td>\n",
       "      <td>NaN</td>\n",
       "      <td>NaN</td>\n",
       "      <td>NaN</td>\n",
       "      <td>NaN</td>\n",
       "    </tr>\n",
       "    <tr>\n",
       "      <th>4</th>\n",
       "      <td>116分钟</td>\n",
       "      <td>NaN</td>\n",
       "      <td>NaN</td>\n",
       "      <td>NaN</td>\n",
       "      <td>NaN</td>\n",
       "      <td>NaN</td>\n",
       "    </tr>\n",
       "  </tbody>\n",
       "</table>\n",
       "</div>"
      ],
      "text/plain": [
       "            0           1    2    3    4    5\n",
       "0      142 分钟         NaN  NaN  NaN  NaN  NaN\n",
       "1      171 分钟         NaN  NaN  NaN  NaN  NaN\n",
       "2  110分钟(剧场版)  133分钟(国际版)  NaN  NaN  NaN  NaN\n",
       "3      142 分钟         NaN  NaN  NaN  NaN  NaN\n",
       "4       116分钟         NaN  NaN  NaN  NaN  NaN"
      ]
     },
     "execution_count": 29,
     "metadata": {},
     "output_type": "execute_result"
    }
   ],
   "source": [
    "# 处理 movie_duration 列：\n",
    "movie_duration_split = df['movie_duration'].str.strip().str.replace('\\', \\'','#').str.split('#').apply(pd.Series)\n",
    "movie_duration_split.head()"
   ]
  },
  {
   "cell_type": "markdown",
   "metadata": {},
   "source": [
    "有些电影时长存在多种版本，一般情况下第一个时长为国内最普通、观看数量较多的版本，因此仅取第一个时长。"
   ]
  },
  {
   "cell_type": "code",
   "execution_count": 30,
   "metadata": {},
   "outputs": [
    {
     "data": {
      "text/plain": [
       "0    142\n",
       "1    171\n",
       "2    110\n",
       "3    142\n",
       "4    116\n",
       "Name: 0, dtype: object"
      ]
     },
     "execution_count": 30,
     "metadata": {},
     "output_type": "execute_result"
    }
   ],
   "source": [
    "duration = movie_duration_split[0].str.split('分').apply(pd.Series)[0].str.strip()\n",
    "duration.head()"
   ]
  },
  {
   "cell_type": "code",
   "execution_count": 31,
   "metadata": {},
   "outputs": [
    {
     "ename": "ValueError",
     "evalue": "invalid literal for int() with base 10: 'Japan: 75'",
     "output_type": "error",
     "traceback": [
      "\u001b[1;31m---------------------------------------------------------------------------\u001b[0m",
      "\u001b[1;31mValueError\u001b[0m                                Traceback (most recent call last)",
      "\u001b[1;32m<ipython-input-31-7cb2f1e583b8>\u001b[0m in \u001b[0;36m<module>\u001b[1;34m\u001b[0m\n\u001b[1;32m----> 1\u001b[1;33m \u001b[0mduration\u001b[0m\u001b[1;33m.\u001b[0m\u001b[0mastype\u001b[0m\u001b[1;33m(\u001b[0m\u001b[0mint\u001b[0m\u001b[1;33m)\u001b[0m\u001b[1;33m\u001b[0m\u001b[1;33m\u001b[0m\u001b[0m\n\u001b[0m",
      "\u001b[1;32mC:\\softwares\\Anaconda3\\lib\\site-packages\\pandas\\core\\generic.py\u001b[0m in \u001b[0;36mastype\u001b[1;34m(self, dtype, copy, errors)\u001b[0m\n\u001b[0;32m   5696\u001b[0m         \u001b[1;32melse\u001b[0m\u001b[1;33m:\u001b[0m\u001b[1;33m\u001b[0m\u001b[1;33m\u001b[0m\u001b[0m\n\u001b[0;32m   5697\u001b[0m             \u001b[1;31m# else, only a single dtype is given\u001b[0m\u001b[1;33m\u001b[0m\u001b[1;33m\u001b[0m\u001b[1;33m\u001b[0m\u001b[0m\n\u001b[1;32m-> 5698\u001b[1;33m             \u001b[0mnew_data\u001b[0m \u001b[1;33m=\u001b[0m \u001b[0mself\u001b[0m\u001b[1;33m.\u001b[0m\u001b[0m_data\u001b[0m\u001b[1;33m.\u001b[0m\u001b[0mastype\u001b[0m\u001b[1;33m(\u001b[0m\u001b[0mdtype\u001b[0m\u001b[1;33m=\u001b[0m\u001b[0mdtype\u001b[0m\u001b[1;33m,\u001b[0m \u001b[0mcopy\u001b[0m\u001b[1;33m=\u001b[0m\u001b[0mcopy\u001b[0m\u001b[1;33m,\u001b[0m \u001b[0merrors\u001b[0m\u001b[1;33m=\u001b[0m\u001b[0merrors\u001b[0m\u001b[1;33m)\u001b[0m\u001b[1;33m\u001b[0m\u001b[1;33m\u001b[0m\u001b[0m\n\u001b[0m\u001b[0;32m   5699\u001b[0m             \u001b[1;32mreturn\u001b[0m \u001b[0mself\u001b[0m\u001b[1;33m.\u001b[0m\u001b[0m_constructor\u001b[0m\u001b[1;33m(\u001b[0m\u001b[0mnew_data\u001b[0m\u001b[1;33m)\u001b[0m\u001b[1;33m.\u001b[0m\u001b[0m__finalize__\u001b[0m\u001b[1;33m(\u001b[0m\u001b[0mself\u001b[0m\u001b[1;33m)\u001b[0m\u001b[1;33m\u001b[0m\u001b[1;33m\u001b[0m\u001b[0m\n\u001b[0;32m   5700\u001b[0m \u001b[1;33m\u001b[0m\u001b[0m\n",
      "\u001b[1;32mC:\\softwares\\Anaconda3\\lib\\site-packages\\pandas\\core\\internals\\managers.py\u001b[0m in \u001b[0;36mastype\u001b[1;34m(self, dtype, copy, errors)\u001b[0m\n\u001b[0;32m    580\u001b[0m \u001b[1;33m\u001b[0m\u001b[0m\n\u001b[0;32m    581\u001b[0m     \u001b[1;32mdef\u001b[0m \u001b[0mastype\u001b[0m\u001b[1;33m(\u001b[0m\u001b[0mself\u001b[0m\u001b[1;33m,\u001b[0m \u001b[0mdtype\u001b[0m\u001b[1;33m,\u001b[0m \u001b[0mcopy\u001b[0m\u001b[1;33m:\u001b[0m \u001b[0mbool\u001b[0m \u001b[1;33m=\u001b[0m \u001b[1;32mFalse\u001b[0m\u001b[1;33m,\u001b[0m \u001b[0merrors\u001b[0m\u001b[1;33m:\u001b[0m \u001b[0mstr\u001b[0m \u001b[1;33m=\u001b[0m \u001b[1;34m\"raise\"\u001b[0m\u001b[1;33m)\u001b[0m\u001b[1;33m:\u001b[0m\u001b[1;33m\u001b[0m\u001b[1;33m\u001b[0m\u001b[0m\n\u001b[1;32m--> 582\u001b[1;33m         \u001b[1;32mreturn\u001b[0m \u001b[0mself\u001b[0m\u001b[1;33m.\u001b[0m\u001b[0mapply\u001b[0m\u001b[1;33m(\u001b[0m\u001b[1;34m\"astype\"\u001b[0m\u001b[1;33m,\u001b[0m \u001b[0mdtype\u001b[0m\u001b[1;33m=\u001b[0m\u001b[0mdtype\u001b[0m\u001b[1;33m,\u001b[0m \u001b[0mcopy\u001b[0m\u001b[1;33m=\u001b[0m\u001b[0mcopy\u001b[0m\u001b[1;33m,\u001b[0m \u001b[0merrors\u001b[0m\u001b[1;33m=\u001b[0m\u001b[0merrors\u001b[0m\u001b[1;33m)\u001b[0m\u001b[1;33m\u001b[0m\u001b[1;33m\u001b[0m\u001b[0m\n\u001b[0m\u001b[0;32m    583\u001b[0m \u001b[1;33m\u001b[0m\u001b[0m\n\u001b[0;32m    584\u001b[0m     \u001b[1;32mdef\u001b[0m \u001b[0mconvert\u001b[0m\u001b[1;33m(\u001b[0m\u001b[0mself\u001b[0m\u001b[1;33m,\u001b[0m \u001b[1;33m**\u001b[0m\u001b[0mkwargs\u001b[0m\u001b[1;33m)\u001b[0m\u001b[1;33m:\u001b[0m\u001b[1;33m\u001b[0m\u001b[1;33m\u001b[0m\u001b[0m\n",
      "\u001b[1;32mC:\\softwares\\Anaconda3\\lib\\site-packages\\pandas\\core\\internals\\managers.py\u001b[0m in \u001b[0;36mapply\u001b[1;34m(self, f, filter, **kwargs)\u001b[0m\n\u001b[0;32m    440\u001b[0m                 \u001b[0mapplied\u001b[0m \u001b[1;33m=\u001b[0m \u001b[0mb\u001b[0m\u001b[1;33m.\u001b[0m\u001b[0mapply\u001b[0m\u001b[1;33m(\u001b[0m\u001b[0mf\u001b[0m\u001b[1;33m,\u001b[0m \u001b[1;33m**\u001b[0m\u001b[0mkwargs\u001b[0m\u001b[1;33m)\u001b[0m\u001b[1;33m\u001b[0m\u001b[1;33m\u001b[0m\u001b[0m\n\u001b[0;32m    441\u001b[0m             \u001b[1;32melse\u001b[0m\u001b[1;33m:\u001b[0m\u001b[1;33m\u001b[0m\u001b[1;33m\u001b[0m\u001b[0m\n\u001b[1;32m--> 442\u001b[1;33m                 \u001b[0mapplied\u001b[0m \u001b[1;33m=\u001b[0m \u001b[0mgetattr\u001b[0m\u001b[1;33m(\u001b[0m\u001b[0mb\u001b[0m\u001b[1;33m,\u001b[0m \u001b[0mf\u001b[0m\u001b[1;33m)\u001b[0m\u001b[1;33m(\u001b[0m\u001b[1;33m**\u001b[0m\u001b[0mkwargs\u001b[0m\u001b[1;33m)\u001b[0m\u001b[1;33m\u001b[0m\u001b[1;33m\u001b[0m\u001b[0m\n\u001b[0m\u001b[0;32m    443\u001b[0m             \u001b[0mresult_blocks\u001b[0m \u001b[1;33m=\u001b[0m \u001b[0m_extend_blocks\u001b[0m\u001b[1;33m(\u001b[0m\u001b[0mapplied\u001b[0m\u001b[1;33m,\u001b[0m \u001b[0mresult_blocks\u001b[0m\u001b[1;33m)\u001b[0m\u001b[1;33m\u001b[0m\u001b[1;33m\u001b[0m\u001b[0m\n\u001b[0;32m    444\u001b[0m \u001b[1;33m\u001b[0m\u001b[0m\n",
      "\u001b[1;32mC:\\softwares\\Anaconda3\\lib\\site-packages\\pandas\\core\\internals\\blocks.py\u001b[0m in \u001b[0;36mastype\u001b[1;34m(self, dtype, copy, errors)\u001b[0m\n\u001b[0;32m    623\u001b[0m             \u001b[0mvals1d\u001b[0m \u001b[1;33m=\u001b[0m \u001b[0mvalues\u001b[0m\u001b[1;33m.\u001b[0m\u001b[0mravel\u001b[0m\u001b[1;33m(\u001b[0m\u001b[1;33m)\u001b[0m\u001b[1;33m\u001b[0m\u001b[1;33m\u001b[0m\u001b[0m\n\u001b[0;32m    624\u001b[0m             \u001b[1;32mtry\u001b[0m\u001b[1;33m:\u001b[0m\u001b[1;33m\u001b[0m\u001b[1;33m\u001b[0m\u001b[0m\n\u001b[1;32m--> 625\u001b[1;33m                 \u001b[0mvalues\u001b[0m \u001b[1;33m=\u001b[0m \u001b[0mastype_nansafe\u001b[0m\u001b[1;33m(\u001b[0m\u001b[0mvals1d\u001b[0m\u001b[1;33m,\u001b[0m \u001b[0mdtype\u001b[0m\u001b[1;33m,\u001b[0m \u001b[0mcopy\u001b[0m\u001b[1;33m=\u001b[0m\u001b[1;32mTrue\u001b[0m\u001b[1;33m)\u001b[0m\u001b[1;33m\u001b[0m\u001b[1;33m\u001b[0m\u001b[0m\n\u001b[0m\u001b[0;32m    626\u001b[0m             \u001b[1;32mexcept\u001b[0m \u001b[1;33m(\u001b[0m\u001b[0mValueError\u001b[0m\u001b[1;33m,\u001b[0m \u001b[0mTypeError\u001b[0m\u001b[1;33m)\u001b[0m\u001b[1;33m:\u001b[0m\u001b[1;33m\u001b[0m\u001b[1;33m\u001b[0m\u001b[0m\n\u001b[0;32m    627\u001b[0m                 \u001b[1;31m# e.g. astype_nansafe can fail on object-dtype of strings\u001b[0m\u001b[1;33m\u001b[0m\u001b[1;33m\u001b[0m\u001b[1;33m\u001b[0m\u001b[0m\n",
      "\u001b[1;32mC:\\softwares\\Anaconda3\\lib\\site-packages\\pandas\\core\\dtypes\\cast.py\u001b[0m in \u001b[0;36mastype_nansafe\u001b[1;34m(arr, dtype, copy, skipna)\u001b[0m\n\u001b[0;32m    872\u001b[0m         \u001b[1;31m# work around NumPy brokenness, #1987\u001b[0m\u001b[1;33m\u001b[0m\u001b[1;33m\u001b[0m\u001b[1;33m\u001b[0m\u001b[0m\n\u001b[0;32m    873\u001b[0m         \u001b[1;32mif\u001b[0m \u001b[0mnp\u001b[0m\u001b[1;33m.\u001b[0m\u001b[0missubdtype\u001b[0m\u001b[1;33m(\u001b[0m\u001b[0mdtype\u001b[0m\u001b[1;33m.\u001b[0m\u001b[0mtype\u001b[0m\u001b[1;33m,\u001b[0m \u001b[0mnp\u001b[0m\u001b[1;33m.\u001b[0m\u001b[0minteger\u001b[0m\u001b[1;33m)\u001b[0m\u001b[1;33m:\u001b[0m\u001b[1;33m\u001b[0m\u001b[1;33m\u001b[0m\u001b[0m\n\u001b[1;32m--> 874\u001b[1;33m             \u001b[1;32mreturn\u001b[0m \u001b[0mlib\u001b[0m\u001b[1;33m.\u001b[0m\u001b[0mastype_intsafe\u001b[0m\u001b[1;33m(\u001b[0m\u001b[0marr\u001b[0m\u001b[1;33m.\u001b[0m\u001b[0mravel\u001b[0m\u001b[1;33m(\u001b[0m\u001b[1;33m)\u001b[0m\u001b[1;33m,\u001b[0m \u001b[0mdtype\u001b[0m\u001b[1;33m)\u001b[0m\u001b[1;33m.\u001b[0m\u001b[0mreshape\u001b[0m\u001b[1;33m(\u001b[0m\u001b[0marr\u001b[0m\u001b[1;33m.\u001b[0m\u001b[0mshape\u001b[0m\u001b[1;33m)\u001b[0m\u001b[1;33m\u001b[0m\u001b[1;33m\u001b[0m\u001b[0m\n\u001b[0m\u001b[0;32m    875\u001b[0m \u001b[1;33m\u001b[0m\u001b[0m\n\u001b[0;32m    876\u001b[0m         \u001b[1;31m# if we have a datetime/timedelta array of objects\u001b[0m\u001b[1;33m\u001b[0m\u001b[1;33m\u001b[0m\u001b[1;33m\u001b[0m\u001b[0m\n",
      "\u001b[1;32mpandas\\_libs\\lib.pyx\u001b[0m in \u001b[0;36mpandas._libs.lib.astype_intsafe\u001b[1;34m()\u001b[0m\n",
      "\u001b[1;31mValueError\u001b[0m: invalid literal for int() with base 10: 'Japan: 75'"
     ]
    }
   ],
   "source": [
    "duration.astype(int)"
   ]
  },
  {
   "cell_type": "markdown",
   "metadata": {},
   "source": [
    "注意，这里的类型为object，需改为int类型。此时若是直接用 duration.astype(int) 。\n",
    "\n",
    "会报错： ValueError: invalid literal for int() with base 10: 'Australia: 80' ，错误信息显示有一行为“Japan: 75”。\n",
    "\n",
    "意思为混有其他字符串，所以无法转换成int类型。我们需要找出非数值型数据。"
   ]
  },
  {
   "cell_type": "code",
   "execution_count": 32,
   "metadata": {},
   "outputs": [
    {
     "data": {
      "text/plain": [
       "3    187\n",
       "2     62\n",
       "9      1\n",
       "Name: 0, dtype: int64"
      ]
     },
     "execution_count": 32,
     "metadata": {},
     "output_type": "execute_result"
    }
   ],
   "source": [
    "duration.str.len().value_counts()"
   ]
  },
  {
   "cell_type": "markdown",
   "metadata": {},
   "source": [
    "字符串长度有一个不合理的值，找出来："
   ]
  },
  {
   "cell_type": "code",
   "execution_count": 33,
   "metadata": {},
   "outputs": [
    {
     "data": {
      "text/plain": [
       "244    Japan: 75\n",
       "Name: 0, dtype: object"
      ]
     },
     "execution_count": 33,
     "metadata": {},
     "output_type": "execute_result"
    }
   ],
   "source": [
    "duration[duration.str.len() > 3]"
   ]
  },
  {
   "cell_type": "markdown",
   "metadata": {},
   "source": [
    "观察数据发现有特殊的：Japan: 75  ,为第244条。类似于这样的数据，处理掉"
   ]
  },
  {
   "cell_type": "code",
   "execution_count": 34,
   "metadata": {},
   "outputs": [],
   "source": [
    "duration[244] = duration[244].split(' ')[1]"
   ]
  },
  {
   "cell_type": "markdown",
   "metadata": {},
   "source": [
    "现在再更改数据类型："
   ]
  },
  {
   "cell_type": "code",
   "execution_count": 35,
   "metadata": {},
   "outputs": [
    {
     "data": {
      "text/plain": [
       "dtype('int32')"
      ]
     },
     "execution_count": 35,
     "metadata": {},
     "output_type": "execute_result"
    }
   ],
   "source": [
    "duration = duration.astype(int)\n",
    "duration.dtypes"
   ]
  },
  {
   "cell_type": "code",
   "execution_count": 36,
   "metadata": {},
   "outputs": [
    {
     "data": {
      "text/plain": [
       "0    142\n",
       "1    171\n",
       "2    110\n",
       "3    142\n",
       "4    116\n",
       "Name: movie_duration, dtype: int32"
      ]
     },
     "execution_count": 36,
     "metadata": {},
     "output_type": "execute_result"
    }
   ],
   "source": [
    "df['movie_duration'] = duration\n",
    "df['movie_duration'].head()"
   ]
  },
  {
   "cell_type": "markdown",
   "metadata": {},
   "source": [
    "#### 2.4.7 电影标记（tags）列内容清洗\n",
    "\n",
    "对于 `tags` 列，先看一下它的基本情况："
   ]
  },
  {
   "cell_type": "code",
   "execution_count": 37,
   "metadata": {},
   "outputs": [
    {
     "data": {
      "text/plain": [
       "\"[{'count': 197742, 'name': '经典'}, {'count': 168278, 'name': '励志'}, {'count': 150816, 'name': '信念'}, {'count': 136433, 'name': '自由'}, {'count': 100023, 'name': '美国'}, {'count': 97065, 'name': '人性'}, {'count': 75735, 'name': '人生'}, {'count': 62038, 'name': '剧情'}]\""
      ]
     },
     "execution_count": 37,
     "metadata": {},
     "output_type": "execute_result"
    }
   ],
   "source": [
    "df[\"tags\"][0]"
   ]
  },
  {
   "cell_type": "markdown",
   "metadata": {},
   "source": [
    "其中的数值和汉字部分是需要提取的，其余无关信息可用 str.replace() 函数替换掉，用 str.split() 函数分列："
   ]
  },
  {
   "cell_type": "code",
   "execution_count": 38,
   "metadata": {
    "scrolled": true
   },
   "outputs": [
    {
     "data": {
      "text/html": [
       "<div>\n",
       "<style scoped>\n",
       "    .dataframe tbody tr th:only-of-type {\n",
       "        vertical-align: middle;\n",
       "    }\n",
       "\n",
       "    .dataframe tbody tr th {\n",
       "        vertical-align: top;\n",
       "    }\n",
       "\n",
       "    .dataframe thead th {\n",
       "        text-align: right;\n",
       "    }\n",
       "</style>\n",
       "<table border=\"1\" class=\"dataframe\">\n",
       "  <thead>\n",
       "    <tr style=\"text-align: right;\">\n",
       "      <th></th>\n",
       "      <th>0</th>\n",
       "      <th>1</th>\n",
       "      <th>2</th>\n",
       "      <th>3</th>\n",
       "      <th>4</th>\n",
       "      <th>5</th>\n",
       "      <th>6</th>\n",
       "      <th>7</th>\n",
       "      <th>8</th>\n",
       "      <th>9</th>\n",
       "      <th>10</th>\n",
       "      <th>11</th>\n",
       "      <th>12</th>\n",
       "      <th>13</th>\n",
       "      <th>14</th>\n",
       "      <th>15</th>\n",
       "      <th>16</th>\n",
       "    </tr>\n",
       "  </thead>\n",
       "  <tbody>\n",
       "    <tr>\n",
       "      <th>0</th>\n",
       "      <td>[{'</td>\n",
       "      <td>197742</td>\n",
       "      <td>经典</td>\n",
       "      <td>168278</td>\n",
       "      <td>励志</td>\n",
       "      <td>150816</td>\n",
       "      <td>信念</td>\n",
       "      <td>136433</td>\n",
       "      <td>自由</td>\n",
       "      <td>100023</td>\n",
       "      <td>美国</td>\n",
       "      <td>97065</td>\n",
       "      <td>人性</td>\n",
       "      <td>75735</td>\n",
       "      <td>人生</td>\n",
       "      <td>62038</td>\n",
       "      <td>剧情'}]</td>\n",
       "    </tr>\n",
       "    <tr>\n",
       "      <th>1</th>\n",
       "      <td>[{'</td>\n",
       "      <td>124150</td>\n",
       "      <td>经典</td>\n",
       "      <td>63691</td>\n",
       "      <td>中国电影</td>\n",
       "      <td>60284</td>\n",
       "      <td>爱情</td>\n",
       "      <td>58677</td>\n",
       "      <td>文艺</td>\n",
       "      <td>56385</td>\n",
       "      <td>人性</td>\n",
       "      <td>49648</td>\n",
       "      <td>同志</td>\n",
       "      <td>45309</td>\n",
       "      <td>人生</td>\n",
       "      <td>34298</td>\n",
       "      <td>剧情'}]</td>\n",
       "    </tr>\n",
       "    <tr>\n",
       "      <th>2</th>\n",
       "      <td>[{'</td>\n",
       "      <td>150097</td>\n",
       "      <td>经典</td>\n",
       "      <td>85994</td>\n",
       "      <td>爱情</td>\n",
       "      <td>85000</td>\n",
       "      <td>温情</td>\n",
       "      <td>59611</td>\n",
       "      <td>人性</td>\n",
       "      <td>53425</td>\n",
       "      <td>剧情</td>\n",
       "      <td>41229</td>\n",
       "      <td>动作</td>\n",
       "      <td>37171</td>\n",
       "      <td>犯罪</td>\n",
       "      <td>23234</td>\n",
       "      <td>1994'}]</td>\n",
       "    </tr>\n",
       "    <tr>\n",
       "      <th>3</th>\n",
       "      <td>[{'</td>\n",
       "      <td>179046</td>\n",
       "      <td>励志</td>\n",
       "      <td>134124</td>\n",
       "      <td>经典</td>\n",
       "      <td>101061</td>\n",
       "      <td>美国</td>\n",
       "      <td>92361</td>\n",
       "      <td>人生</td>\n",
       "      <td>69678</td>\n",
       "      <td>信念</td>\n",
       "      <td>68910</td>\n",
       "      <td>成长</td>\n",
       "      <td>38545</td>\n",
       "      <td>剧情</td>\n",
       "      <td>29198</td>\n",
       "      <td>人性'}]</td>\n",
       "    </tr>\n",
       "    <tr>\n",
       "      <th>4</th>\n",
       "      <td>[{'</td>\n",
       "      <td>70710</td>\n",
       "      <td>意大利</td>\n",
       "      <td>67057</td>\n",
       "      <td>二战</td>\n",
       "      <td>66974</td>\n",
       "      <td>经典</td>\n",
       "      <td>65271</td>\n",
       "      <td>亲情</td>\n",
       "      <td>41626</td>\n",
       "      <td>战争</td>\n",
       "      <td>27446</td>\n",
       "      <td>温情</td>\n",
       "      <td>23931</td>\n",
       "      <td>爱情</td>\n",
       "      <td>23904</td>\n",
       "      <td>人性'}]</td>\n",
       "    </tr>\n",
       "  </tbody>\n",
       "</table>\n",
       "</div>"
      ],
      "text/plain": [
       "     0       1    2       3     4       5   6       7   8       9  10     11  \\\n",
       "0  [{'  197742   经典  168278    励志  150816  信念  136433  自由  100023  美国  97065   \n",
       "1  [{'  124150   经典   63691  中国电影   60284  爱情   58677  文艺   56385  人性  49648   \n",
       "2  [{'  150097   经典   85994    爱情   85000  温情   59611  人性   53425  剧情  41229   \n",
       "3  [{'  179046   励志  134124    经典  101061  美国   92361  人生   69678  信念  68910   \n",
       "4  [{'   70710  意大利   67057    二战   66974  经典   65271  亲情   41626  战争  27446   \n",
       "\n",
       "   12     13  14     15       16  \n",
       "0  人性  75735  人生  62038    剧情'}]  \n",
       "1  同志  45309  人生  34298    剧情'}]  \n",
       "2  动作  37171  犯罪  23234  1994'}]  \n",
       "3  成长  38545  剧情  29198    人性'}]  \n",
       "4  温情  23931  爱情  23904    人性'}]  "
      ]
     },
     "execution_count": 38,
     "metadata": {},
     "output_type": "execute_result"
    }
   ],
   "source": [
    "tags_split = df['tags'].str.replace('count\\': ',' ').str.replace(', \\'name\\': \\'',' ').str.replace('\\'}, {\\'','').str.split(' ').apply(pd.Series)\n",
    "tags_split.head()"
   ]
  },
  {
   "cell_type": "markdown",
   "metadata": {},
   "source": [
    "第一列是无效信息，删除掉。\n",
    "\n",
    "最后一列包含特殊字符'}]，也处理掉。"
   ]
  },
  {
   "cell_type": "code",
   "execution_count": 39,
   "metadata": {
    "scrolled": true
   },
   "outputs": [
    {
     "data": {
      "text/html": [
       "<div>\n",
       "<style scoped>\n",
       "    .dataframe tbody tr th:only-of-type {\n",
       "        vertical-align: middle;\n",
       "    }\n",
       "\n",
       "    .dataframe tbody tr th {\n",
       "        vertical-align: top;\n",
       "    }\n",
       "\n",
       "    .dataframe thead th {\n",
       "        text-align: right;\n",
       "    }\n",
       "</style>\n",
       "<table border=\"1\" class=\"dataframe\">\n",
       "  <thead>\n",
       "    <tr style=\"text-align: right;\">\n",
       "      <th></th>\n",
       "      <th>1</th>\n",
       "      <th>2</th>\n",
       "      <th>3</th>\n",
       "      <th>4</th>\n",
       "      <th>5</th>\n",
       "      <th>6</th>\n",
       "      <th>7</th>\n",
       "      <th>8</th>\n",
       "      <th>9</th>\n",
       "      <th>10</th>\n",
       "      <th>11</th>\n",
       "      <th>12</th>\n",
       "      <th>13</th>\n",
       "      <th>14</th>\n",
       "      <th>15</th>\n",
       "      <th>16</th>\n",
       "    </tr>\n",
       "  </thead>\n",
       "  <tbody>\n",
       "    <tr>\n",
       "      <th>0</th>\n",
       "      <td>197742</td>\n",
       "      <td>经典</td>\n",
       "      <td>168278</td>\n",
       "      <td>励志</td>\n",
       "      <td>150816</td>\n",
       "      <td>信念</td>\n",
       "      <td>136433</td>\n",
       "      <td>自由</td>\n",
       "      <td>100023</td>\n",
       "      <td>美国</td>\n",
       "      <td>97065</td>\n",
       "      <td>人性</td>\n",
       "      <td>75735</td>\n",
       "      <td>人生</td>\n",
       "      <td>62038</td>\n",
       "      <td>剧情</td>\n",
       "    </tr>\n",
       "    <tr>\n",
       "      <th>1</th>\n",
       "      <td>124150</td>\n",
       "      <td>经典</td>\n",
       "      <td>63691</td>\n",
       "      <td>中国电影</td>\n",
       "      <td>60284</td>\n",
       "      <td>爱情</td>\n",
       "      <td>58677</td>\n",
       "      <td>文艺</td>\n",
       "      <td>56385</td>\n",
       "      <td>人性</td>\n",
       "      <td>49648</td>\n",
       "      <td>同志</td>\n",
       "      <td>45309</td>\n",
       "      <td>人生</td>\n",
       "      <td>34298</td>\n",
       "      <td>剧情</td>\n",
       "    </tr>\n",
       "    <tr>\n",
       "      <th>2</th>\n",
       "      <td>150097</td>\n",
       "      <td>经典</td>\n",
       "      <td>85994</td>\n",
       "      <td>爱情</td>\n",
       "      <td>85000</td>\n",
       "      <td>温情</td>\n",
       "      <td>59611</td>\n",
       "      <td>人性</td>\n",
       "      <td>53425</td>\n",
       "      <td>剧情</td>\n",
       "      <td>41229</td>\n",
       "      <td>动作</td>\n",
       "      <td>37171</td>\n",
       "      <td>犯罪</td>\n",
       "      <td>23234</td>\n",
       "      <td>1994</td>\n",
       "    </tr>\n",
       "    <tr>\n",
       "      <th>3</th>\n",
       "      <td>179046</td>\n",
       "      <td>励志</td>\n",
       "      <td>134124</td>\n",
       "      <td>经典</td>\n",
       "      <td>101061</td>\n",
       "      <td>美国</td>\n",
       "      <td>92361</td>\n",
       "      <td>人生</td>\n",
       "      <td>69678</td>\n",
       "      <td>信念</td>\n",
       "      <td>68910</td>\n",
       "      <td>成长</td>\n",
       "      <td>38545</td>\n",
       "      <td>剧情</td>\n",
       "      <td>29198</td>\n",
       "      <td>人性</td>\n",
       "    </tr>\n",
       "    <tr>\n",
       "      <th>4</th>\n",
       "      <td>70710</td>\n",
       "      <td>意大利</td>\n",
       "      <td>67057</td>\n",
       "      <td>二战</td>\n",
       "      <td>66974</td>\n",
       "      <td>经典</td>\n",
       "      <td>65271</td>\n",
       "      <td>亲情</td>\n",
       "      <td>41626</td>\n",
       "      <td>战争</td>\n",
       "      <td>27446</td>\n",
       "      <td>温情</td>\n",
       "      <td>23931</td>\n",
       "      <td>爱情</td>\n",
       "      <td>23904</td>\n",
       "      <td>人性</td>\n",
       "    </tr>\n",
       "  </tbody>\n",
       "</table>\n",
       "</div>"
      ],
      "text/plain": [
       "       1    2       3     4       5   6       7   8       9   10     11  12  \\\n",
       "0  197742   经典  168278    励志  150816  信念  136433  自由  100023  美国  97065  人性   \n",
       "1  124150   经典   63691  中国电影   60284  爱情   58677  文艺   56385  人性  49648  同志   \n",
       "2  150097   经典   85994    爱情   85000  温情   59611  人性   53425  剧情  41229  动作   \n",
       "3  179046   励志  134124    经典  101061  美国   92361  人生   69678  信念  68910  成长   \n",
       "4   70710  意大利   67057    二战   66974  经典   65271  亲情   41626  战争  27446  温情   \n",
       "\n",
       "      13  14     15    16  \n",
       "0  75735  人生  62038    剧情  \n",
       "1  45309  人生  34298    剧情  \n",
       "2  37171  犯罪  23234  1994  \n",
       "3  38545  剧情  29198    人性  \n",
       "4  23931  爱情  23904    人性  "
      ]
     },
     "execution_count": 39,
     "metadata": {},
     "output_type": "execute_result"
    }
   ],
   "source": [
    "# 删除第一列\n",
    "del tags_split[0]\n",
    "\n",
    "# 处理掉最后一列的特殊字符：'}]\n",
    "tags_split[16] = tags_split[16].str.replace('\\'}]','')\n",
    "tags_split.head()"
   ]
  },
  {
   "cell_type": "markdown",
   "metadata": {},
   "source": [
    "一般阅读习惯是先看标签类别，再看标签数量，调整一下位置比较便于阅读："
   ]
  },
  {
   "cell_type": "code",
   "execution_count": 40,
   "metadata": {
    "scrolled": true
   },
   "outputs": [
    {
     "data": {
      "text/html": [
       "<div>\n",
       "<style scoped>\n",
       "    .dataframe tbody tr th:only-of-type {\n",
       "        vertical-align: middle;\n",
       "    }\n",
       "\n",
       "    .dataframe tbody tr th {\n",
       "        vertical-align: top;\n",
       "    }\n",
       "\n",
       "    .dataframe thead th {\n",
       "        text-align: right;\n",
       "    }\n",
       "</style>\n",
       "<table border=\"1\" class=\"dataframe\">\n",
       "  <thead>\n",
       "    <tr style=\"text-align: right;\">\n",
       "      <th></th>\n",
       "      <th>2</th>\n",
       "      <th>1</th>\n",
       "      <th>4</th>\n",
       "      <th>3</th>\n",
       "      <th>6</th>\n",
       "      <th>5</th>\n",
       "      <th>8</th>\n",
       "      <th>7</th>\n",
       "      <th>10</th>\n",
       "      <th>9</th>\n",
       "      <th>12</th>\n",
       "      <th>11</th>\n",
       "      <th>14</th>\n",
       "      <th>13</th>\n",
       "      <th>16</th>\n",
       "      <th>15</th>\n",
       "    </tr>\n",
       "  </thead>\n",
       "  <tbody>\n",
       "    <tr>\n",
       "      <th>0</th>\n",
       "      <td>经典</td>\n",
       "      <td>197742</td>\n",
       "      <td>励志</td>\n",
       "      <td>168278</td>\n",
       "      <td>信念</td>\n",
       "      <td>150816</td>\n",
       "      <td>自由</td>\n",
       "      <td>136433</td>\n",
       "      <td>美国</td>\n",
       "      <td>100023</td>\n",
       "      <td>人性</td>\n",
       "      <td>97065</td>\n",
       "      <td>人生</td>\n",
       "      <td>75735</td>\n",
       "      <td>剧情</td>\n",
       "      <td>62038</td>\n",
       "    </tr>\n",
       "    <tr>\n",
       "      <th>1</th>\n",
       "      <td>经典</td>\n",
       "      <td>124150</td>\n",
       "      <td>中国电影</td>\n",
       "      <td>63691</td>\n",
       "      <td>爱情</td>\n",
       "      <td>60284</td>\n",
       "      <td>文艺</td>\n",
       "      <td>58677</td>\n",
       "      <td>人性</td>\n",
       "      <td>56385</td>\n",
       "      <td>同志</td>\n",
       "      <td>49648</td>\n",
       "      <td>人生</td>\n",
       "      <td>45309</td>\n",
       "      <td>剧情</td>\n",
       "      <td>34298</td>\n",
       "    </tr>\n",
       "  </tbody>\n",
       "</table>\n",
       "</div>"
      ],
      "text/plain": [
       "   2       1     4       3   6       5   8       7   10      9   12     11  \\\n",
       "0  经典  197742    励志  168278  信念  150816  自由  136433  美国  100023  人性  97065   \n",
       "1  经典  124150  中国电影   63691  爱情   60284  文艺   58677  人性   56385  同志  49648   \n",
       "\n",
       "   14     13  16     15  \n",
       "0  人生  75735  剧情  62038  \n",
       "1  人生  45309  剧情  34298  "
      ]
     },
     "execution_count": 40,
     "metadata": {},
     "output_type": "execute_result"
    }
   ],
   "source": [
    "tags_split = tags_split.reindex(columns = [2,1,4,3,6,5,8,7,10,9,12,11,14,13,16,15])\n",
    "tags_split.head(2)"
   ]
  },
  {
   "cell_type": "markdown",
   "metadata": {},
   "source": [
    "更改列名："
   ]
  },
  {
   "cell_type": "code",
   "execution_count": 41,
   "metadata": {},
   "outputs": [
    {
     "data": {
      "text/html": [
       "<div>\n",
       "<style scoped>\n",
       "    .dataframe tbody tr th:only-of-type {\n",
       "        vertical-align: middle;\n",
       "    }\n",
       "\n",
       "    .dataframe tbody tr th {\n",
       "        vertical-align: top;\n",
       "    }\n",
       "\n",
       "    .dataframe thead th {\n",
       "        text-align: right;\n",
       "    }\n",
       "</style>\n",
       "<table border=\"1\" class=\"dataframe\">\n",
       "  <thead>\n",
       "    <tr style=\"text-align: right;\">\n",
       "      <th></th>\n",
       "      <th>tags_1</th>\n",
       "      <th>tags_counts_1</th>\n",
       "      <th>tags_2</th>\n",
       "      <th>tags_counts_2</th>\n",
       "      <th>tags_3</th>\n",
       "      <th>tags_counts_3</th>\n",
       "      <th>tags_4</th>\n",
       "      <th>tags_counts_4</th>\n",
       "      <th>tags_5</th>\n",
       "      <th>tags_counts_5</th>\n",
       "      <th>tags_6</th>\n",
       "      <th>tags_counts_6</th>\n",
       "      <th>tags_7</th>\n",
       "      <th>tags_counts_7</th>\n",
       "      <th>tags_8</th>\n",
       "      <th>tags_counts_8</th>\n",
       "    </tr>\n",
       "  </thead>\n",
       "  <tbody>\n",
       "    <tr>\n",
       "      <th>0</th>\n",
       "      <td>经典</td>\n",
       "      <td>197742</td>\n",
       "      <td>励志</td>\n",
       "      <td>168278</td>\n",
       "      <td>信念</td>\n",
       "      <td>150816</td>\n",
       "      <td>自由</td>\n",
       "      <td>136433</td>\n",
       "      <td>美国</td>\n",
       "      <td>100023</td>\n",
       "      <td>人性</td>\n",
       "      <td>97065</td>\n",
       "      <td>人生</td>\n",
       "      <td>75735</td>\n",
       "      <td>剧情</td>\n",
       "      <td>62038</td>\n",
       "    </tr>\n",
       "    <tr>\n",
       "      <th>1</th>\n",
       "      <td>经典</td>\n",
       "      <td>124150</td>\n",
       "      <td>中国电影</td>\n",
       "      <td>63691</td>\n",
       "      <td>爱情</td>\n",
       "      <td>60284</td>\n",
       "      <td>文艺</td>\n",
       "      <td>58677</td>\n",
       "      <td>人性</td>\n",
       "      <td>56385</td>\n",
       "      <td>同志</td>\n",
       "      <td>49648</td>\n",
       "      <td>人生</td>\n",
       "      <td>45309</td>\n",
       "      <td>剧情</td>\n",
       "      <td>34298</td>\n",
       "    </tr>\n",
       "    <tr>\n",
       "      <th>2</th>\n",
       "      <td>经典</td>\n",
       "      <td>150097</td>\n",
       "      <td>爱情</td>\n",
       "      <td>85994</td>\n",
       "      <td>温情</td>\n",
       "      <td>85000</td>\n",
       "      <td>人性</td>\n",
       "      <td>59611</td>\n",
       "      <td>剧情</td>\n",
       "      <td>53425</td>\n",
       "      <td>动作</td>\n",
       "      <td>41229</td>\n",
       "      <td>犯罪</td>\n",
       "      <td>37171</td>\n",
       "      <td>1994</td>\n",
       "      <td>23234</td>\n",
       "    </tr>\n",
       "    <tr>\n",
       "      <th>3</th>\n",
       "      <td>励志</td>\n",
       "      <td>179046</td>\n",
       "      <td>经典</td>\n",
       "      <td>134124</td>\n",
       "      <td>美国</td>\n",
       "      <td>101061</td>\n",
       "      <td>人生</td>\n",
       "      <td>92361</td>\n",
       "      <td>信念</td>\n",
       "      <td>69678</td>\n",
       "      <td>成长</td>\n",
       "      <td>68910</td>\n",
       "      <td>剧情</td>\n",
       "      <td>38545</td>\n",
       "      <td>人性</td>\n",
       "      <td>29198</td>\n",
       "    </tr>\n",
       "    <tr>\n",
       "      <th>4</th>\n",
       "      <td>意大利</td>\n",
       "      <td>70710</td>\n",
       "      <td>二战</td>\n",
       "      <td>67057</td>\n",
       "      <td>经典</td>\n",
       "      <td>66974</td>\n",
       "      <td>亲情</td>\n",
       "      <td>65271</td>\n",
       "      <td>战争</td>\n",
       "      <td>41626</td>\n",
       "      <td>温情</td>\n",
       "      <td>27446</td>\n",
       "      <td>爱情</td>\n",
       "      <td>23931</td>\n",
       "      <td>人性</td>\n",
       "      <td>23904</td>\n",
       "    </tr>\n",
       "  </tbody>\n",
       "</table>\n",
       "</div>"
      ],
      "text/plain": [
       "  tags_1 tags_counts_1 tags_2 tags_counts_2 tags_3 tags_counts_3 tags_4  \\\n",
       "0     经典        197742     励志        168278     信念        150816     自由   \n",
       "1     经典        124150   中国电影         63691     爱情         60284     文艺   \n",
       "2     经典        150097     爱情         85994     温情         85000     人性   \n",
       "3     励志        179046     经典        134124     美国        101061     人生   \n",
       "4    意大利         70710     二战         67057     经典         66974     亲情   \n",
       "\n",
       "  tags_counts_4 tags_5 tags_counts_5 tags_6 tags_counts_6 tags_7  \\\n",
       "0        136433     美国        100023     人性         97065     人生   \n",
       "1         58677     人性         56385     同志         49648     人生   \n",
       "2         59611     剧情         53425     动作         41229     犯罪   \n",
       "3         92361     信念         69678     成长         68910     剧情   \n",
       "4         65271     战争         41626     温情         27446     爱情   \n",
       "\n",
       "  tags_counts_7 tags_8 tags_counts_8  \n",
       "0         75735     剧情         62038  \n",
       "1         45309     剧情         34298  \n",
       "2         37171   1994         23234  \n",
       "3         38545     人性         29198  \n",
       "4         23931     人性         23904  "
      ]
     },
     "execution_count": 41,
     "metadata": {},
     "output_type": "execute_result"
    }
   ],
   "source": [
    "tags_split.columns = ['tags_1','tags_counts_1','tags_2','tags_counts_2','tags_3','tags_counts_3',\n",
    "                      'tags_4','tags_counts_4','tags_5','tags_counts_5','tags_6','tags_counts_6',\n",
    "                      'tags_7','tags_counts_7','tags_8','tags_counts_8']\n",
    "tags_split.head()"
   ]
  },
  {
   "cell_type": "markdown",
   "metadata": {},
   "source": [
    "#### 2.4.8 电影上映时间（init_year）列内容清洗\n",
    "\n",
    "有的电影给出了不同多家上映的时间，其中第一个最早，因此对于好几个年份的情况取第一个值。\n",
    "\n",
    "如：第78条-大闹天宫：1961(中国大陆) / 1964(中国大陆) / 1978(中国大陆) / 2004(中国大陆)。为了格式统一，我们对于好几个年份的情况取第一个值。"
   ]
  },
  {
   "cell_type": "code",
   "execution_count": 42,
   "metadata": {},
   "outputs": [
    {
     "data": {
      "text/plain": [
       "0    1994\n",
       "1    1993\n",
       "2    1994\n",
       "3    1994\n",
       "4    1997\n",
       "Name: init_year, dtype: int32"
      ]
     },
     "execution_count": 42,
     "metadata": {},
     "output_type": "execute_result"
    }
   ],
   "source": [
    "year_split = df['init_year'].str.split('/').apply(pd.Series)[0].str.strip()\n",
    "# 主要为处理第78条：大闹天宫：1961(中国大陆) / 1964(中国大陆) / 1978(中国大陆) / 2004(中国大陆)\n",
    "year_split = year_split.str.slice(0,4)\n",
    "df['init_year'] = year_split.astype(int)\n",
    "df['init_year'].head()"
   ]
  },
  {
   "cell_type": "markdown",
   "metadata": {},
   "source": [
    "#### 2.4.9 缺失值检查"
   ]
  },
  {
   "cell_type": "code",
   "execution_count": 43,
   "metadata": {},
   "outputs": [
    {
     "data": {
      "text/html": [
       "<div>\n",
       "<style scoped>\n",
       "    .dataframe tbody tr th:only-of-type {\n",
       "        vertical-align: middle;\n",
       "    }\n",
       "\n",
       "    .dataframe tbody tr th {\n",
       "        vertical-align: top;\n",
       "    }\n",
       "\n",
       "    .dataframe thead th {\n",
       "        text-align: right;\n",
       "    }\n",
       "</style>\n",
       "<table border=\"1\" class=\"dataframe\">\n",
       "  <thead>\n",
       "    <tr style=\"text-align: right;\">\n",
       "      <th></th>\n",
       "      <th>num</th>\n",
       "      <th>title</th>\n",
       "      <th>init_year</th>\n",
       "      <th>area</th>\n",
       "      <th>genre</th>\n",
       "      <th>rating_num</th>\n",
       "      <th>comment_num</th>\n",
       "      <th>language</th>\n",
       "      <th>director</th>\n",
       "      <th>cast</th>\n",
       "      <th>movie_duration</th>\n",
       "      <th>tags</th>\n",
       "    </tr>\n",
       "  </thead>\n",
       "  <tbody>\n",
       "  </tbody>\n",
       "</table>\n",
       "</div>"
      ],
      "text/plain": [
       "Empty DataFrame\n",
       "Columns: [num, title, init_year, area, genre, rating_num, comment_num, language, director, cast, movie_duration, tags]\n",
       "Index: []"
      ]
     },
     "execution_count": 43,
     "metadata": {},
     "output_type": "execute_result"
    }
   ],
   "source": [
    "df[df.isnull().values == True]"
   ]
  },
  {
   "cell_type": "markdown",
   "metadata": {},
   "source": [
    "结果说明没有缺失值。\n",
    "\n",
    "对于 area_c 、 genre_c 、 language_c 、cast_c 、 tags_c 都经过缺失值处理，也不存在缺失值。\n",
    "\n",
    "现在再来看一下基本信息："
   ]
  },
  {
   "cell_type": "code",
   "execution_count": 44,
   "metadata": {},
   "outputs": [
    {
     "name": "stdout",
     "output_type": "stream",
     "text": [
      "<class 'pandas.core.frame.DataFrame'>\n",
      "Int64Index: 250 entries, 0 to 249\n",
      "Data columns (total 12 columns):\n",
      " #   Column          Non-Null Count  Dtype  \n",
      "---  ------          --------------  -----  \n",
      " 0   num             250 non-null    int64  \n",
      " 1   title           250 non-null    object \n",
      " 2   init_year       250 non-null    int32  \n",
      " 3   area            250 non-null    object \n",
      " 4   genre           250 non-null    object \n",
      " 5   rating_num      250 non-null    float64\n",
      " 6   comment_num     250 non-null    int64  \n",
      " 7   language        250 non-null    object \n",
      " 8   director        250 non-null    object \n",
      " 9   cast            250 non-null    object \n",
      " 10  movie_duration  250 non-null    int32  \n",
      " 11  tags            250 non-null    object \n",
      "dtypes: float64(1), int32(2), int64(2), object(7)\n",
      "memory usage: 33.4+ KB\n"
     ]
    }
   ],
   "source": [
    "df.info()"
   ]
  },
  {
   "cell_type": "markdown",
   "metadata": {},
   "source": [
    "发现 init_year 、 movie_duration 已经更改为 int 类型了。\n",
    "\n",
    "到此，我们得到了 area_c 、 genre_c 、 language_c 、cast_c 、 tags_split 以及数据框 df 。\n",
    "\n",
    "数据清洗完成。"
   ]
  },
  {
   "cell_type": "markdown",
   "metadata": {},
   "source": [
    "## 3 数据分析\n",
    "### 3.1 数值型列数据统计\n",
    "用 describe() 函数看一下数值型数据的统计信息："
   ]
  },
  {
   "cell_type": "code",
   "execution_count": 45,
   "metadata": {},
   "outputs": [
    {
     "data": {
      "text/html": [
       "<div>\n",
       "<style scoped>\n",
       "    .dataframe tbody tr th:only-of-type {\n",
       "        vertical-align: middle;\n",
       "    }\n",
       "\n",
       "    .dataframe tbody tr th {\n",
       "        vertical-align: top;\n",
       "    }\n",
       "\n",
       "    .dataframe thead th {\n",
       "        text-align: right;\n",
       "    }\n",
       "</style>\n",
       "<table border=\"1\" class=\"dataframe\">\n",
       "  <thead>\n",
       "    <tr style=\"text-align: right;\">\n",
       "      <th></th>\n",
       "      <th>num</th>\n",
       "      <th>init_year</th>\n",
       "      <th>rating_num</th>\n",
       "      <th>comment_num</th>\n",
       "      <th>movie_duration</th>\n",
       "    </tr>\n",
       "  </thead>\n",
       "  <tbody>\n",
       "    <tr>\n",
       "      <th>count</th>\n",
       "      <td>250.000000</td>\n",
       "      <td>250.000000</td>\n",
       "      <td>250.000000</td>\n",
       "      <td>250.000000</td>\n",
       "      <td>250.00000</td>\n",
       "    </tr>\n",
       "    <tr>\n",
       "      <th>mean</th>\n",
       "      <td>125.500000</td>\n",
       "      <td>1998.672000</td>\n",
       "      <td>8.780000</td>\n",
       "      <td>265018.144000</td>\n",
       "      <td>121.40800</td>\n",
       "    </tr>\n",
       "    <tr>\n",
       "      <th>std</th>\n",
       "      <td>72.312977</td>\n",
       "      <td>15.687089</td>\n",
       "      <td>0.272722</td>\n",
       "      <td>161767.099974</td>\n",
       "      <td>29.62716</td>\n",
       "    </tr>\n",
       "    <tr>\n",
       "      <th>min</th>\n",
       "      <td>1.000000</td>\n",
       "      <td>1931.000000</td>\n",
       "      <td>8.200000</td>\n",
       "      <td>44329.000000</td>\n",
       "      <td>45.00000</td>\n",
       "    </tr>\n",
       "    <tr>\n",
       "      <th>25%</th>\n",
       "      <td>63.250000</td>\n",
       "      <td>1994.000000</td>\n",
       "      <td>8.600000</td>\n",
       "      <td>143972.250000</td>\n",
       "      <td>99.25000</td>\n",
       "    </tr>\n",
       "    <tr>\n",
       "      <th>50%</th>\n",
       "      <td>125.500000</td>\n",
       "      <td>2002.000000</td>\n",
       "      <td>8.700000</td>\n",
       "      <td>230139.500000</td>\n",
       "      <td>117.00000</td>\n",
       "    </tr>\n",
       "    <tr>\n",
       "      <th>75%</th>\n",
       "      <td>187.750000</td>\n",
       "      <td>2009.000000</td>\n",
       "      <td>8.900000</td>\n",
       "      <td>332168.750000</td>\n",
       "      <td>136.00000</td>\n",
       "    </tr>\n",
       "    <tr>\n",
       "      <th>max</th>\n",
       "      <td>250.000000</td>\n",
       "      <td>2016.000000</td>\n",
       "      <td>9.600000</td>\n",
       "      <td>964842.000000</td>\n",
       "      <td>238.00000</td>\n",
       "    </tr>\n",
       "  </tbody>\n",
       "</table>\n",
       "</div>"
      ],
      "text/plain": [
       "              num    init_year  rating_num    comment_num  movie_duration\n",
       "count  250.000000   250.000000  250.000000     250.000000       250.00000\n",
       "mean   125.500000  1998.672000    8.780000  265018.144000       121.40800\n",
       "std     72.312977    15.687089    0.272722  161767.099974        29.62716\n",
       "min      1.000000  1931.000000    8.200000   44329.000000        45.00000\n",
       "25%     63.250000  1994.000000    8.600000  143972.250000        99.25000\n",
       "50%    125.500000  2002.000000    8.700000  230139.500000       117.00000\n",
       "75%    187.750000  2009.000000    8.900000  332168.750000       136.00000\n",
       "max    250.000000  2016.000000    9.600000  964842.000000       238.00000"
      ]
     },
     "execution_count": 45,
     "metadata": {},
     "output_type": "execute_result"
    }
   ],
   "source": [
    "df.describe()"
   ]
  },
  {
   "cell_type": "markdown",
   "metadata": {},
   "source": [
    "**结果分析：**\n",
    "\n",
    "从以上结果可以看出，在『豆瓣电影Top250』榜单中 ：\n",
    "- 上映时间最早为1931年，最晚为2016年；\n",
    "- 评分最低为8.2分，最高9.6分，平均分为8.76分；\n",
    "- 评论数量最低40150条，最高861343条；\n",
    "- 电影时长最短为45分钟，最长238分，平均时长121.61分钟\n",
    "- 第一四分位书为99.25分钟，看来绝多数电影时长还是大于90分钟的"
   ]
  },
  {
   "cell_type": "markdown",
   "metadata": {},
   "source": [
    "### 3.2 电影排名分析\n",
    "\n",
    "先简单看下数据："
   ]
  },
  {
   "cell_type": "code",
   "execution_count": 46,
   "metadata": {},
   "outputs": [
    {
     "data": {
      "text/html": [
       "<div>\n",
       "<style scoped>\n",
       "    .dataframe tbody tr th:only-of-type {\n",
       "        vertical-align: middle;\n",
       "    }\n",
       "\n",
       "    .dataframe tbody tr th {\n",
       "        vertical-align: top;\n",
       "    }\n",
       "\n",
       "    .dataframe thead th {\n",
       "        text-align: right;\n",
       "    }\n",
       "</style>\n",
       "<table border=\"1\" class=\"dataframe\">\n",
       "  <thead>\n",
       "    <tr style=\"text-align: right;\">\n",
       "      <th></th>\n",
       "      <th>num</th>\n",
       "      <th>title</th>\n",
       "    </tr>\n",
       "  </thead>\n",
       "  <tbody>\n",
       "    <tr>\n",
       "      <th>0</th>\n",
       "      <td>1</td>\n",
       "      <td>肖申克的救赎</td>\n",
       "    </tr>\n",
       "    <tr>\n",
       "      <th>1</th>\n",
       "      <td>2</td>\n",
       "      <td>霸王别姬</td>\n",
       "    </tr>\n",
       "    <tr>\n",
       "      <th>2</th>\n",
       "      <td>3</td>\n",
       "      <td>这个杀手不太冷</td>\n",
       "    </tr>\n",
       "    <tr>\n",
       "      <th>3</th>\n",
       "      <td>4</td>\n",
       "      <td>阿甘正传</td>\n",
       "    </tr>\n",
       "    <tr>\n",
       "      <th>4</th>\n",
       "      <td>5</td>\n",
       "      <td>美丽人生</td>\n",
       "    </tr>\n",
       "    <tr>\n",
       "      <th>5</th>\n",
       "      <td>6</td>\n",
       "      <td>千与千寻</td>\n",
       "    </tr>\n",
       "    <tr>\n",
       "      <th>6</th>\n",
       "      <td>7</td>\n",
       "      <td>泰坦尼克号</td>\n",
       "    </tr>\n",
       "    <tr>\n",
       "      <th>7</th>\n",
       "      <td>8</td>\n",
       "      <td>辛德勒的名单</td>\n",
       "    </tr>\n",
       "    <tr>\n",
       "      <th>8</th>\n",
       "      <td>9</td>\n",
       "      <td>盗梦空间</td>\n",
       "    </tr>\n",
       "    <tr>\n",
       "      <th>9</th>\n",
       "      <td>10</td>\n",
       "      <td>机器人总动员</td>\n",
       "    </tr>\n",
       "  </tbody>\n",
       "</table>\n",
       "</div>"
      ],
      "text/plain": [
       "   num    title\n",
       "0    1   肖申克的救赎\n",
       "1    2     霸王别姬\n",
       "2    3  这个杀手不太冷\n",
       "3    4     阿甘正传\n",
       "4    5     美丽人生\n",
       "5    6     千与千寻\n",
       "6    7    泰坦尼克号\n",
       "7    8   辛德勒的名单\n",
       "8    9     盗梦空间\n",
       "9   10   机器人总动员"
      ]
     },
     "execution_count": 46,
     "metadata": {},
     "output_type": "execute_result"
    }
   ],
   "source": [
    "df[['num','title']].head(10)"
   ]
  },
  {
   "cell_type": "markdown",
   "metadata": {},
   "source": [
    "#### 3.2.1 按评分排名-top10分析"
   ]
  },
  {
   "cell_type": "code",
   "execution_count": 47,
   "metadata": {},
   "outputs": [
    {
     "data": {
      "text/html": [
       "<div>\n",
       "<style scoped>\n",
       "    .dataframe tbody tr th:only-of-type {\n",
       "        vertical-align: middle;\n",
       "    }\n",
       "\n",
       "    .dataframe tbody tr th {\n",
       "        vertical-align: top;\n",
       "    }\n",
       "\n",
       "    .dataframe thead th {\n",
       "        text-align: right;\n",
       "    }\n",
       "</style>\n",
       "<table border=\"1\" class=\"dataframe\">\n",
       "  <thead>\n",
       "    <tr style=\"text-align: right;\">\n",
       "      <th></th>\n",
       "      <th>index</th>\n",
       "      <th>rating_num</th>\n",
       "      <th>title</th>\n",
       "    </tr>\n",
       "  </thead>\n",
       "  <tbody>\n",
       "    <tr>\n",
       "      <th>1</th>\n",
       "      <td>0</td>\n",
       "      <td>9.6</td>\n",
       "      <td>肖申克的救赎</td>\n",
       "    </tr>\n",
       "    <tr>\n",
       "      <th>2</th>\n",
       "      <td>41</td>\n",
       "      <td>9.6</td>\n",
       "      <td>控方证人</td>\n",
       "    </tr>\n",
       "    <tr>\n",
       "      <th>3</th>\n",
       "      <td>1</td>\n",
       "      <td>9.5</td>\n",
       "      <td>霸王别姬</td>\n",
       "    </tr>\n",
       "    <tr>\n",
       "      <th>4</th>\n",
       "      <td>4</td>\n",
       "      <td>9.5</td>\n",
       "      <td>美丽人生</td>\n",
       "    </tr>\n",
       "    <tr>\n",
       "      <th>5</th>\n",
       "      <td>7</td>\n",
       "      <td>9.4</td>\n",
       "      <td>辛德勒的名单</td>\n",
       "    </tr>\n",
       "    <tr>\n",
       "      <th>6</th>\n",
       "      <td>26</td>\n",
       "      <td>9.4</td>\n",
       "      <td>十二怒汉</td>\n",
       "    </tr>\n",
       "    <tr>\n",
       "      <th>7</th>\n",
       "      <td>3</td>\n",
       "      <td>9.4</td>\n",
       "      <td>阿甘正传</td>\n",
       "    </tr>\n",
       "    <tr>\n",
       "      <th>8</th>\n",
       "      <td>2</td>\n",
       "      <td>9.4</td>\n",
       "      <td>这个杀手不太冷</td>\n",
       "    </tr>\n",
       "    <tr>\n",
       "      <th>9</th>\n",
       "      <td>8</td>\n",
       "      <td>9.3</td>\n",
       "      <td>盗梦空间</td>\n",
       "    </tr>\n",
       "    <tr>\n",
       "      <th>10</th>\n",
       "      <td>43</td>\n",
       "      <td>9.3</td>\n",
       "      <td>海豚湾</td>\n",
       "    </tr>\n",
       "  </tbody>\n",
       "</table>\n",
       "</div>"
      ],
      "text/plain": [
       "    index  rating_num    title\n",
       "1       0         9.6   肖申克的救赎\n",
       "2      41         9.6     控方证人\n",
       "3       1         9.5     霸王别姬\n",
       "4       4         9.5     美丽人生\n",
       "5       7         9.4   辛德勒的名单\n",
       "6      26         9.4     十二怒汉\n",
       "7       3         9.4     阿甘正传\n",
       "8       2         9.4  这个杀手不太冷\n",
       "9       8         9.3     盗梦空间\n",
       "10     43         9.3      海豚湾"
      ]
     },
     "execution_count": 47,
     "metadata": {},
     "output_type": "execute_result"
    }
   ],
   "source": [
    "Top10_rating_num = df[['rating_num','title']].sort_values(by = ['rating_num'], ascending = False).head(10).reset_index()\n",
    "Top10_rating_num.index = [1,2,3,4,5,6,7,8,9,10]\n",
    "Top10_rating_num"
   ]
  },
  {
   "cell_type": "markdown",
   "metadata": {},
   "source": [
    "#### 3.2.2 按评价数量排名-top10分析"
   ]
  },
  {
   "cell_type": "code",
   "execution_count": 48,
   "metadata": {},
   "outputs": [
    {
     "data": {
      "text/html": [
       "<div>\n",
       "<style scoped>\n",
       "    .dataframe tbody tr th:only-of-type {\n",
       "        vertical-align: middle;\n",
       "    }\n",
       "\n",
       "    .dataframe tbody tr th {\n",
       "        vertical-align: top;\n",
       "    }\n",
       "\n",
       "    .dataframe thead th {\n",
       "        text-align: right;\n",
       "    }\n",
       "</style>\n",
       "<table border=\"1\" class=\"dataframe\">\n",
       "  <thead>\n",
       "    <tr style=\"text-align: right;\">\n",
       "      <th></th>\n",
       "      <th>index</th>\n",
       "      <th>comment_num</th>\n",
       "      <th>title</th>\n",
       "    </tr>\n",
       "  </thead>\n",
       "  <tbody>\n",
       "    <tr>\n",
       "      <th>1</th>\n",
       "      <td>0</td>\n",
       "      <td>964842</td>\n",
       "      <td>肖申克的救赎</td>\n",
       "    </tr>\n",
       "    <tr>\n",
       "      <th>2</th>\n",
       "      <td>2</td>\n",
       "      <td>912435</td>\n",
       "      <td>这个杀手不太冷</td>\n",
       "    </tr>\n",
       "    <tr>\n",
       "      <th>3</th>\n",
       "      <td>8</td>\n",
       "      <td>819985</td>\n",
       "      <td>盗梦空间</td>\n",
       "    </tr>\n",
       "    <tr>\n",
       "      <th>4</th>\n",
       "      <td>3</td>\n",
       "      <td>775889</td>\n",
       "      <td>阿甘正传</td>\n",
       "    </tr>\n",
       "    <tr>\n",
       "      <th>5</th>\n",
       "      <td>11</td>\n",
       "      <td>732146</td>\n",
       "      <td>三傻大闹宝莱坞</td>\n",
       "    </tr>\n",
       "    <tr>\n",
       "      <th>6</th>\n",
       "      <td>5</td>\n",
       "      <td>725483</td>\n",
       "      <td>千与千寻</td>\n",
       "    </tr>\n",
       "    <tr>\n",
       "      <th>7</th>\n",
       "      <td>6</td>\n",
       "      <td>716225</td>\n",
       "      <td>泰坦尼克号</td>\n",
       "    </tr>\n",
       "    <tr>\n",
       "      <th>8</th>\n",
       "      <td>1</td>\n",
       "      <td>699930</td>\n",
       "      <td>霸王别姬</td>\n",
       "    </tr>\n",
       "    <tr>\n",
       "      <th>9</th>\n",
       "      <td>75</td>\n",
       "      <td>651633</td>\n",
       "      <td>让子弹飞</td>\n",
       "    </tr>\n",
       "    <tr>\n",
       "      <th>10</th>\n",
       "      <td>10</td>\n",
       "      <td>635805</td>\n",
       "      <td>海上钢琴师</td>\n",
       "    </tr>\n",
       "  </tbody>\n",
       "</table>\n",
       "</div>"
      ],
      "text/plain": [
       "    index  comment_num    title\n",
       "1       0       964842   肖申克的救赎\n",
       "2       2       912435  这个杀手不太冷\n",
       "3       8       819985     盗梦空间\n",
       "4       3       775889     阿甘正传\n",
       "5      11       732146  三傻大闹宝莱坞\n",
       "6       5       725483     千与千寻\n",
       "7       6       716225    泰坦尼克号\n",
       "8       1       699930     霸王别姬\n",
       "9      75       651633     让子弹飞\n",
       "10     10       635805    海上钢琴师"
      ]
     },
     "execution_count": 48,
     "metadata": {},
     "output_type": "execute_result"
    }
   ],
   "source": [
    "Top10_comment_num = df[['comment_num','title']].sort_values(by = ['comment_num'],ascending = False).head(10).reset_index()\n",
    "Top10_comment_num.index = [1,2,3,4,5,6,7,8,9,10]\n",
    "Top10_comment_num"
   ]
  },
  {
   "cell_type": "markdown",
   "metadata": {},
   "source": [
    "**结果分析**\n",
    "- 《申肖克的救赎》无论评分、评论人数还是总排名稳居榜首\n",
    "- 居于第二位的《霸王别姬》的评分排名并列第三，评论数排名第8位\n",
    "- 由上可见，总排名还有其他因素有关，不仅是评分及评价数量。"
   ]
  },
  {
   "cell_type": "markdown",
   "metadata": {},
   "source": [
    "### 3.3 上榜次数统计分析\n",
    "#### 3.3.1 上榜次数最多导演统计"
   ]
  },
  {
   "cell_type": "code",
   "execution_count": 49,
   "metadata": {},
   "outputs": [
    {
     "data": {
      "text/plain": [
       "宫崎骏 Hayao Miyazaki            7\n",
       "克里斯托弗·诺兰 Christopher Nolan    7\n",
       "王家卫 Kar Wai Wong              5\n",
       "史蒂文·斯皮尔伯格 Steven Spielberg    5\n",
       "大卫·芬奇 David Fincher           4\n",
       "Name: director, dtype: int64"
      ]
     },
     "execution_count": 49,
     "metadata": {},
     "output_type": "execute_result"
    }
   ],
   "source": [
    "df['director'].value_counts().head()"
   ]
  },
  {
   "cell_type": "markdown",
   "metadata": {},
   "source": [
    "**结果分析：**\n",
    "- 『克里斯托弗·诺兰 Christopher Nolan』和『宫崎骏 Hayao Miyazaki』上榜次数最多，同为7次"
   ]
  },
  {
   "cell_type": "markdown",
   "metadata": {},
   "source": [
    "#### 3.3.2 上榜次数最多演员统计"
   ]
  },
  {
   "cell_type": "code",
   "execution_count": 50,
   "metadata": {},
   "outputs": [
    {
     "data": {
      "text/html": [
       "<div>\n",
       "<style scoped>\n",
       "    .dataframe tbody tr th:only-of-type {\n",
       "        vertical-align: middle;\n",
       "    }\n",
       "\n",
       "    .dataframe tbody tr th {\n",
       "        vertical-align: top;\n",
       "    }\n",
       "\n",
       "    .dataframe thead th {\n",
       "        text-align: right;\n",
       "    }\n",
       "</style>\n",
       "<table border=\"1\" class=\"dataframe\">\n",
       "  <thead>\n",
       "    <tr style=\"text-align: right;\">\n",
       "      <th></th>\n",
       "      <th>counts</th>\n",
       "    </tr>\n",
       "    <tr>\n",
       "      <th>performers</th>\n",
       "      <th></th>\n",
       "    </tr>\n",
       "  </thead>\n",
       "  <tbody>\n",
       "    <tr>\n",
       "      <th>张国荣 Leslie Cheung</th>\n",
       "      <td>8</td>\n",
       "    </tr>\n",
       "    <tr>\n",
       "      <th>张曼玉 Maggie Cheung</th>\n",
       "      <td>7</td>\n",
       "    </tr>\n",
       "    <tr>\n",
       "      <th>汤姆·汉克斯 Tom Hanks</th>\n",
       "      <td>7</td>\n",
       "    </tr>\n",
       "    <tr>\n",
       "      <th>梁朝伟 Tony Leung Chiu Wai</th>\n",
       "      <td>7</td>\n",
       "    </tr>\n",
       "    <tr>\n",
       "      <th>雨果·维文 Hugo Weaving</th>\n",
       "      <td>7</td>\n",
       "    </tr>\n",
       "    <tr>\n",
       "      <th>伊桑·霍克 Ethan Hawke</th>\n",
       "      <td>6</td>\n",
       "    </tr>\n",
       "    <tr>\n",
       "      <th>布拉德·皮特 Brad Pitt</th>\n",
       "      <td>6</td>\n",
       "    </tr>\n",
       "    <tr>\n",
       "      <th>马特·达蒙 Matt Damon</th>\n",
       "      <td>6</td>\n",
       "    </tr>\n",
       "    <tr>\n",
       "      <th>莱昂纳多·迪卡普里奥 Leonardo DiCaprio</th>\n",
       "      <td>6</td>\n",
       "    </tr>\n",
       "    <tr>\n",
       "      <th>琼·艾伦 Joan Allen</th>\n",
       "      <td>6</td>\n",
       "    </tr>\n",
       "  </tbody>\n",
       "</table>\n",
       "</div>"
      ],
      "text/plain": [
       "                              counts\n",
       "performers                          \n",
       "张国荣 Leslie Cheung                  8\n",
       "张曼玉 Maggie Cheung                  7\n",
       "汤姆·汉克斯 Tom Hanks                   7\n",
       "梁朝伟 Tony Leung Chiu Wai            7\n",
       "雨果·维文 Hugo Weaving                 7\n",
       "伊桑·霍克 Ethan Hawke                  6\n",
       "布拉德·皮特 Brad Pitt                   6\n",
       "马特·达蒙 Matt Damon                   6\n",
       "莱昂纳多·迪卡普里奥 Leonardo DiCaprio       6\n",
       "琼·艾伦 Joan Allen                    6"
      ]
     },
     "execution_count": 50,
     "metadata": {},
     "output_type": "execute_result"
    }
   ],
   "source": [
    "cast_c.sort_values(by = ['counts'], ascending = False).head(10)"
   ]
  },
  {
   "cell_type": "markdown",
   "metadata": {},
   "source": [
    "**结果分析：**\n",
    "- 上榜次数最多的演员是『张国荣 Leslie Cheung』，高达8次\n",
    "- 这也是每年大家对他纪念的一个原因吧，这么多经典的作品，永远被铭记。"
   ]
  },
  {
   "cell_type": "markdown",
   "metadata": {},
   "source": [
    "## 4 可视化数据分析（使用maplotLib）\n",
    "### 4.0 maplotLib 可视化包基本环境配置"
   ]
  },
  {
   "cell_type": "code",
   "execution_count": 51,
   "metadata": {},
   "outputs": [],
   "source": [
    "# step01- 导包\n",
    "import matplotlib.pyplot as plt\n",
    "import matplotlib\n",
    "\n",
    "# step02 - 配置\n",
    "matplotlib.rcParams['font.family'] = 'SimHei' #配置中文字体\n",
    "matplotlib.rcParams['font.size'] = 15   # 更改默认字体大小  "
   ]
  },
  {
   "cell_type": "markdown",
   "metadata": {},
   "source": [
    "### 4.1 排名与评分的关系-可视化分析"
   ]
  },
  {
   "cell_type": "code",
   "execution_count": 52,
   "metadata": {},
   "outputs": [
    {
     "data": {
      "image/png": "[encoded data removed]",
      "text/plain": [
       "<Figure size 432x288 with 1 Axes>"
      ]
     },
     "metadata": {
      "needs_background": "light"
     },
     "output_type": "display_data"
    }
   ],
   "source": [
    "plt.scatter(df['rating_num'], df['num']) #绘制散点图\n",
    "plt.xlabel('rating_num')    #x轴标签\n",
    "plt.ylabel('ranking list')  #y轴标签\n",
    "plt.show()"
   ]
  },
  {
   "cell_type": "markdown",
   "metadata": {},
   "source": [
    "**结果：**\n",
    "- 排名越靠前，即num越小，分数越高"
   ]
  },
  {
   "cell_type": "markdown",
   "metadata": {},
   "source": [
    "**优化：**\n",
    "- 但上图看着还是有些别扭，因为我们习惯了排名靠前的在 y 轴的上方\n",
    "- 可以用 invert_yaxis() 函数来改变 y 轴标签的顺序\n",
    "- 重构可视化显示"
   ]
  },
  {
   "cell_type": "code",
   "execution_count": 53,
   "metadata": {},
   "outputs": [
    {
     "data": {
      "image/png": "[encoded data removed]",
      "text/plain": [
       "<Figure size 1008x432 with 2 Axes>"
      ]
     },
     "metadata": {
      "needs_background": "light"
     },
     "output_type": "display_data"
    }
   ],
   "source": [
    "plt.figure(figsize=(14,6)) \n",
    "plt.subplot(1,2,1)\n",
    "plt.scatter(df['rating_num'], df['num'])\n",
    "plt.xlabel('rating_num')\n",
    "plt.ylabel('ranking list')\n",
    "plt.gca().invert_yaxis()\n",
    "\n",
    "plt.subplot(1,2,2)\n",
    "plt.hist(df['rating_num'],bins = 15)\n",
    "plt.xlabel('rating_num')\n",
    "plt.show()"
   ]
  },
  {
   "cell_type": "code",
   "execution_count": 54,
   "metadata": {},
   "outputs": [
    {
     "data": {
      "text/plain": [
       "-0.6928655414458527"
      ]
     },
     "execution_count": 54,
     "metadata": {},
     "output_type": "execute_result"
    }
   ],
   "source": [
    "# 计算Pearson相关系数，显示相关性\n",
    "df['num'].corr(df['rating_num'])"
   ]
  },
  {
   "cell_type": "markdown",
   "metadata": {},
   "source": [
    "**结果分析：**\n",
    "\n",
    "豆瓣评分大多是集中在 8.3 - 9.2 之间，随评分的升高，豆瓣Top250排名名次大致提前，Pearson相关系数为 --0.6929，呈强相关性。"
   ]
  },
  {
   "cell_type": "markdown",
   "metadata": {},
   "source": [
    "### 4.2 排名与评论人数的关系-可视化分析 "
   ]
  },
  {
   "cell_type": "code",
   "execution_count": 55,
   "metadata": {},
   "outputs": [
    {
     "data": {
      "image/png": "[encoded data removed]",
      "text/plain": [
       "<Figure size 1008x432 with 2 Axes>"
      ]
     },
     "metadata": {
      "needs_background": "light"
     },
     "output_type": "display_data"
    }
   ],
   "source": [
    "plt.figure(figsize=(14,6)) \n",
    "plt.subplot(1,2,1)\n",
    "plt.scatter(df['comment_num'], df['num'])\n",
    "plt.xlabel('comment_num')\n",
    "plt.ylabel('ranking list')\n",
    "plt.gca().invert_yaxis()\n",
    "\n",
    "plt.subplot(1,2,2)\n",
    "plt.hist(df['comment_num'])\n",
    "plt.xlabel('comment_num')\n",
    "plt.show()"
   ]
  },
  {
   "cell_type": "code",
   "execution_count": 56,
   "metadata": {},
   "outputs": [
    {
     "data": {
      "text/plain": [
       "-0.6543641213113001"
      ]
     },
     "execution_count": 56,
     "metadata": {},
     "output_type": "execute_result"
    }
   ],
   "source": [
    "# 计算Pearson相关系数，显示相关性\n",
    "df['num'].corr(df['comment_num'])"
   ]
  },
  {
   "cell_type": "markdown",
   "metadata": {},
   "source": [
    "**结果分析：**\n",
    "\n",
    "评价人数呈右偏分布，随评价人数的增多，豆瓣Top250排名名次有提前趋势，Pearson相关系数为-0.6544，呈强相关性。"
   ]
  },
  {
   "cell_type": "markdown",
   "metadata": {},
   "source": [
    "### 4.3 排名与电影时长的关系-可视化分析"
   ]
  },
  {
   "cell_type": "code",
   "execution_count": 57,
   "metadata": {},
   "outputs": [
    {
     "data": {
      "text/plain": [
       "<Figure size 432x288 with 0 Axes>"
      ]
     },
     "metadata": {},
     "output_type": "display_data"
    },
    {
     "data": {
      "image/png": "[encoded data removed]",
      "text/plain": [
       "<Figure size 1008x432 with 2 Axes>"
      ]
     },
     "metadata": {
      "needs_background": "light"
     },
     "output_type": "display_data"
    }
   ],
   "source": [
    "plt.figure(1)\n",
    "plt.figure(figsize=(14,6)) \n",
    "plt.subplot(1,2,1)\n",
    "plt.scatter(df['movie_duration'], df['num'])\n",
    "plt.xlabel('movie_duration')\n",
    "plt.ylabel('ranking list')\n",
    "plt.gca().invert_yaxis()\n",
    "\n",
    "plt.subplot(1,2,2)\n",
    "plt.hist(df['movie_duration'],bins = 50)\n",
    "plt.xlabel('movie_duration')\n",
    "plt.show()"
   ]
  },
  {
   "cell_type": "code",
   "execution_count": 58,
   "metadata": {},
   "outputs": [
    {
     "data": {
      "text/plain": [
       "-0.2627522010562204"
      ]
     },
     "execution_count": 58,
     "metadata": {},
     "output_type": "execute_result"
    }
   ],
   "source": [
    "# 计算Pearson相关系数，显示相关性\n",
    "df['num'].corr(df['movie_duration'])"
   ]
  },
  {
   "cell_type": "markdown",
   "metadata": {},
   "source": [
    "**结果分析：**\n",
    "\n",
    "电影时长多数集中在 80-120 分钟之间，与豆瓣电影Top250之间关系不大，Pearson相关系数为 -0.2628，为弱相关性。"
   ]
  },
  {
   "cell_type": "markdown",
   "metadata": {},
   "source": [
    "### 4.4 排名与上映年份的关系-可视化分析"
   ]
  },
  {
   "cell_type": "code",
   "execution_count": 59,
   "metadata": {},
   "outputs": [
    {
     "data": {
      "text/plain": [
       "<Figure size 432x288 with 0 Axes>"
      ]
     },
     "metadata": {},
     "output_type": "display_data"
    },
    {
     "data": {
      "image/png": "[encoded data removed]",
      "text/plain": [
       "<Figure size 1008x432 with 2 Axes>"
      ]
     },
     "metadata": {
      "needs_background": "light"
     },
     "output_type": "display_data"
    }
   ],
   "source": [
    "plt.figure(1)\n",
    "plt.figure(figsize=(14,6)) \n",
    "plt.subplot(1,2,1)\n",
    "plt.scatter(df['init_year'], df['num'])\n",
    "plt.xlabel('init_year')\n",
    "plt.ylabel('ranking list')\n",
    "plt.gca().invert_yaxis()\n",
    "\n",
    "plt.subplot(1,2,2)\n",
    "plt.hist(df['init_year'],bins = 30)\n",
    "plt.xlabel('init_year')\n",
    "plt.show()"
   ]
  },
  {
   "cell_type": "code",
   "execution_count": 60,
   "metadata": {},
   "outputs": [
    {
     "data": {
      "text/plain": [
       "0.0886211958369098"
      ]
     },
     "execution_count": 60,
     "metadata": {},
     "output_type": "execute_result"
    }
   ],
   "source": [
    "# 计算Pearson相关系数，显示相关性\n",
    "df['num'].corr(df['init_year'])"
   ]
  },
  {
   "cell_type": "markdown",
   "metadata": {},
   "source": [
    "**结果分析：**\n",
    "\n",
    "上映年份多数其中在1990年之后，pearson相关系数为0.0886，与豆瓣电影Top250没有相关性。"
   ]
  },
  {
   "cell_type": "markdown",
   "metadata": {},
   "source": [
    "### 4.5 国家/地区 电影top250排名统计-可视化分析"
   ]
  },
  {
   "cell_type": "code",
   "execution_count": 61,
   "metadata": {},
   "outputs": [
    {
     "data": {
      "image/png": "[encoded data removed]",
      "text/plain": [
       "<Figure size 864x432 with 1 Axes>"
      ]
     },
     "metadata": {
      "needs_background": "light"
     },
     "output_type": "display_data"
    }
   ],
   "source": [
    "area_c.sort_values(by = 'counts',ascending = False).plot(kind ='bar', figsize = (12,6))\n",
    "plt.show()"
   ]
  },
  {
   "cell_type": "markdown",
   "metadata": {},
   "source": [
    "**结果分析：**\n",
    "\n",
    "上榜电影中，美国电影数量最多，中国大陆排第七位。"
   ]
  },
  {
   "cell_type": "markdown",
   "metadata": {},
   "source": [
    "### 4.6 电影语言排名统计-可视化分析"
   ]
  },
  {
   "cell_type": "code",
   "execution_count": 62,
   "metadata": {},
   "outputs": [
    {
     "data": {
      "image/png": "[encoded data removed]",
      "text/plain": [
       "<Figure size 864x432 with 1 Axes>"
      ]
     },
     "metadata": {
      "needs_background": "light"
     },
     "output_type": "display_data"
    }
   ],
   "source": [
    "language_c.sort_values(by = 'counts',ascending = False)[:30].plot(kind ='bar', figsize = (12,6))\n",
    "plt.show()"
   ]
  },
  {
   "cell_type": "markdown",
   "metadata": {},
   "source": [
    "**结果分析：**\n",
    "\n",
    "上榜电影使用最多的语言为英语，汉语普通话排第四位。"
   ]
  },
  {
   "cell_type": "markdown",
   "metadata": {},
   "source": [
    "### 4.7 电影类型排名统计-可视化分析"
   ]
  },
  {
   "cell_type": "code",
   "execution_count": 63,
   "metadata": {},
   "outputs": [
    {
     "data": {
      "image/png": "[encoded data removed]",
      "text/plain": [
       "<Figure size 864x432 with 1 Axes>"
      ]
     },
     "metadata": {
      "needs_background": "light"
     },
     "output_type": "display_data"
    }
   ],
   "source": [
    "genre_c.sort_values(by = 'counts',ascending = False).plot(kind ='bar', figsize = (12,6))\n",
    "plt.show()"
   ]
  },
  {
   "cell_type": "markdown",
   "metadata": {},
   "source": [
    "**结果分析：**\n",
    "\n",
    "最多的电影类型是剧情，其次是爱情。"
   ]
  },
  {
   "cell_type": "markdown",
   "metadata": {},
   "source": [
    "### 4.8 电影电影标签热度词云统计-可视化分析\n",
    "\n",
    "标签比较多，我们可以使用 wordcloud 这个Python包来制作词云。首先通过动态代码安装词云包wordcloud。"
   ]
  },
  {
   "cell_type": "code",
   "execution_count": 112,
   "metadata": {
    "scrolled": true
   },
   "outputs": [
    {
     "name": "stderr",
     "output_type": "stream",
     "text": [
      "WARNING: pip is being invoked by an old script wrapper. This will fail in a future version of pip.\n",
      "Please see https://github.com/pypa/pip/issues/5599 for advice on fixing the underlying issue.\n",
      "To avoid this problem you can invoke Python with '-m pip' instead of running pip directly.\n"
     ]
    },
    {
     "name": "stdout",
     "output_type": "stream",
     "text": [
      "Collecting wordcloud\n"
     ]
    },
    {
     "name": "stderr",
     "output_type": "stream",
     "text": [
      "  WARNING: Retrying (Retry(total=4, connect=None, read=None, redirect=None, status=None)) after connection broken by 'ReadTimeoutError(\"HTTPSConnectionPool(host='files.pythonhosted.org', port=443): Read timed out. (read timeout=15)\")': /packages/fc/7e/5848c211b1f141ffae41f0f05d72c0bfdb4816f9bf9d80f02962d019b8fe/wordcloud-1.8.1-cp38-cp38-win_amd64.whl\n"
     ]
    },
    {
     "name": "stdout",
     "output_type": "stream",
     "text": [
      "  Downloading wordcloud-1.8.1-cp38-cp38-win_amd64.whl (155 kB)\n",
      "Requirement already satisfied: pillow in c:\\softwares\\anaconda3\\lib\\site-packages (from wordcloud) (7.2.0)\n",
      "Requirement already satisfied: matplotlib in c:\\softwares\\anaconda3\\lib\\site-packages (from wordcloud) (3.2.2)\n",
      "Requirement already satisfied: numpy>=1.6.1 in c:\\softwares\\anaconda3\\lib\\site-packages (from wordcloud) (1.18.5)\n",
      "Requirement already satisfied: kiwisolver>=1.0.1 in c:\\softwares\\anaconda3\\lib\\site-packages (from matplotlib->wordcloud) (1.2.0)\n",
      "Requirement already satisfied: python-dateutil>=2.1 in c:\\softwares\\anaconda3\\lib\\site-packages (from matplotlib->wordcloud) (2.8.1)\n",
      "Requirement already satisfied: cycler>=0.10 in c:\\softwares\\anaconda3\\lib\\site-packages (from matplotlib->wordcloud) (0.10.0)\n",
      "Requirement already satisfied: pyparsing!=2.0.4,!=2.1.2,!=2.1.6,>=2.0.1 in c:\\softwares\\anaconda3\\lib\\site-packages (from matplotlib->wordcloud) (2.4.7)\n",
      "Requirement already satisfied: six>=1.5 in c:\\softwares\\anaconda3\\lib\\site-packages (from python-dateutil>=2.1->matplotlib->wordcloud) (1.15.0)\n",
      "Installing collected packages: wordcloud\n",
      "Successfully installed wordcloud-1.8.1\n"
     ]
    }
   ],
   "source": [
    "import pip\n",
    "def install(package):\n",
    "   pip.main(['install', package])\n",
    "\n",
    "install('wordcloud')"
   ]
  },
  {
   "cell_type": "code",
   "execution_count": 65,
   "metadata": {
    "scrolled": true
   },
   "outputs": [
    {
     "data": {
      "image/png": "[encoded data removed]",
      "text/plain": [
       "<Figure size 1152x576 with 1 Axes>"
      ]
     },
     "metadata": {
      "needs_background": "light"
     },
     "output_type": "display_data"
    }
   ],
   "source": [
    "import wordcloud\n",
    "from wordcloud import WordCloud\n",
    "\n",
    "text = tags_split[['tags_1','tags_2','tags_3','tags_4','tags_5','tags_6','tags_7','tags_8']].to_string(header=False, index=False )\n",
    "wordcloud = WordCloud(font_path='msyh.ttf', background_color='white' ,width=5000, height=3000, margin=2).generate(text)\n",
    "plt.figure(figsize=(16,8))\n",
    "plt.imshow(wordcloud)\n",
    "plt.axis('off')\n",
    "plt.show()"
   ]
  },
  {
   "cell_type": "markdown",
   "metadata": {},
   "source": [
    "## 5 数据分析结论：\n",
    "- 豆瓣电影Top250排行榜和电影评分及评论人数有强相关性，和上映时间无相关性。 \n",
    "- 剧情、爱情、喜剧、犯罪、冒险类型的电影上榜较多。常用标签为“美国”、“剧情”、“经典”、“人性”、“爱情”。 \n",
    "- 美国的电影最受欢迎，用的最多的语言是英语。 \n",
    "- 上榜次数最多的导演是『克里斯托弗·诺兰 Christopher Nolan』和『宫崎骏 Hayao Miyazaki』，同为7次。 \n",
    "- 上榜次数最多的主演是『张国荣 Leslie Cheung』，高达8次。 \n",
    "- 片长和排名关系不大，多数集中在80-120之间。"
   ]
  },
  {
   "cell_type": "code",
   "execution_count": null,
   "metadata": {},
   "outputs": [],
   "source": []
  }
 ],
 "metadata": {
  "kernelspec": {
   "display_name": "Python 3",
   "language": "python",
   "name": "python3"
  },
  "language_info": {
   "codemirror_mode": {
    "name": "ipython",
    "version": 3
   },
   "file_extension": ".py",
   "mimetype": "text/x-python",
   "name": "python",
   "nbconvert_exporter": "python",
   "pygments_lexer": "ipython3",
   "version": "3.8.3"
  }
 },
 "nbformat": 4,
 "nbformat_minor": 2
}
